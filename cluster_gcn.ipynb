{
  "cells": [
    {
      "cell_type": "markdown",
      "metadata": {
        "id": "gMURz8I_cAjh"
      },
      "source": [
        "# Node classification with Cluster-GCN"
      ]
    },
    {
      "cell_type": "markdown",
      "metadata": {
        "id": "d28ZJc3QcAjl"
      },
      "source": [
        "<table><tr><td>Run the latest release of this notebook:</td><td><a href=\"https://mybinder.org/v2/gh/stellargraph/stellargraph/master?urlpath=lab/tree/demos/node-classification/cluster-gcn-node-classification.ipynb\" alt=\"Open In Binder\" target=\"_parent\"><img src=\"https://mybinder.org/badge_logo.svg\"/></a></td><td><a href=\"https://colab.research.google.com/github/stellargraph/stellargraph/blob/master/demos/node-classification/cluster-gcn-node-classification.ipynb\" alt=\"Open In Colab\" target=\"_parent\"><img src=\"https://colab.research.google.com/assets/colab-badge.svg\"/></a></td></tr></table>"
      ]
    },
    {
      "cell_type": "markdown",
      "metadata": {
        "id": "WMFrxLG4cAjm"
      },
      "source": [
        "This notebook demonstrates how to use `StellarGraph`'s implementation of *Cluster-GCN*, [1], for node classification on a homogeneous graph.\n",
        "\n",
        "*Cluster-GCN* is a training method for scalable training of deeper Graph Neural Networks using Stochastic Gradient Descent (SGD). It is implemented as the `ClusterNodeGenerator` class ([docs](https://stellargraph.readthedocs.io/en/stable/api.html#stellargraph.mapper.ClusterNodeGenerator)) in StellarGraph, which can be used with [GCN](https://stellargraph.readthedocs.io/en/stable/api.html#stellargraph.layer.GCN) [2] (demonstrated here), [GAT](https://stellargraph.readthedocs.io/en/stable/api.html#stellargraph.layer.GAT) and [APPNP](https://stellargraph.readthedocs.io/en/stable/api.html#stellargraph.layer.APPNP) models.\n",
        "\n",
        "As a first step, *Cluster-GCN* splits a given graph into `k` non-overlapping subgraphs, i.e., no two subgraphs share a node. In [1], it is suggested that for best classification performance, the *METIS* graph clustering algorithm, [3], should be utilised; *METIS* groups together nodes that form a well connected neighborhood with few connections to other subgraphs. The default clustering algorithm `StellarGraph` uses is the random assignment of nodes to clusters. The user is free to use any suitable clustering algorithm to determine the clusters before training the *Cluster-GCN* model.\n",
        "\n",
        "This notebook demonstrates how to use either random clustering or METIS. For the latter, it is necessary that 3rd party software has correctly been installed; later, we provide links to websites that host the software and provide detailed installation instructions.\n",
        "\n",
        "During model training, each subgraph or combination of subgraphs is treated as a mini-batch for estimating the parameters of a *GCN* model. A pass over all subgraphs is considered a training epoch.\n",
        "\n",
        "*Cluster-GCN* further extends *GCN* from the transductive to the inductive setting but this is not demonstrated in this notebook.\n",
        "\n",
        "This notebook demonstrates *Cluster-GCN* for node classification using 2 citation network datasets, `Cora` and `PubMed-Diabetes`.\n",
        "\n",
        "**References**\n",
        "\n",
        "[1] Cluster-GCN: An Efficient Algorithm for Training Deep and Large Graph Convolutional Networks. W. Chiang, X. Liu, S. Si, Y. Li, S. Bengio, and C. Hsiej, KDD, 2019, arXiv:1905.07953 ([download link](https://arxiv.org/abs/1905.07953))\n",
        "\n",
        "[2] Semi-Supervised Classification with Graph Convolutional Networks. T. Kipf, M. Welling. ICLR 2017. arXiv:1609.02907 ([download link](https://arxiv.org/abs/1609.02907))\n",
        "\n",
        "[3] METIS: Serial Graph Partitioning and Fill-reducing Matrix Ordering. ([download link](http://glaros.dtc.umn.edu/gkhome/views/metis))"
      ]
    },
    {
      "cell_type": "code",
      "execution_count": 4,
      "metadata": {
        "colab": {
          "base_uri": "https://localhost:8080/"
        },
        "id": "MeuVuG7RcAjn",
        "outputId": "18b9569c-68c0-4151-ffd0-cb2c5d041569"
      },
      "outputs": [
        {
          "output_type": "stream",
          "name": "stdout",
          "text": [
            "Requirement already satisfied: tensorflow==2.11.0 in /usr/local/lib/python3.10/dist-packages (2.11.0)\n",
            "Requirement already satisfied: absl-py>=1.0.0 in /usr/local/lib/python3.10/dist-packages (from tensorflow==2.11.0) (1.4.0)\n",
            "Requirement already satisfied: astunparse>=1.6.0 in /usr/local/lib/python3.10/dist-packages (from tensorflow==2.11.0) (1.6.3)\n",
            "Requirement already satisfied: flatbuffers>=2.0 in /usr/local/lib/python3.10/dist-packages (from tensorflow==2.11.0) (24.3.25)\n",
            "Requirement already satisfied: gast<=0.4.0,>=0.2.1 in /usr/local/lib/python3.10/dist-packages (from tensorflow==2.11.0) (0.4.0)\n",
            "Requirement already satisfied: google-pasta>=0.1.1 in /usr/local/lib/python3.10/dist-packages (from tensorflow==2.11.0) (0.2.0)\n",
            "Requirement already satisfied: grpcio<2.0,>=1.24.3 in /usr/local/lib/python3.10/dist-packages (from tensorflow==2.11.0) (1.63.0)\n",
            "Requirement already satisfied: h5py>=2.9.0 in /usr/local/lib/python3.10/dist-packages (from tensorflow==2.11.0) (3.9.0)\n",
            "Requirement already satisfied: keras<2.12,>=2.11.0 in /usr/local/lib/python3.10/dist-packages (from tensorflow==2.11.0) (2.11.0)\n",
            "Requirement already satisfied: libclang>=13.0.0 in /usr/local/lib/python3.10/dist-packages (from tensorflow==2.11.0) (18.1.1)\n",
            "Requirement already satisfied: numpy>=1.20 in /usr/local/lib/python3.10/dist-packages (from tensorflow==2.11.0) (1.25.2)\n",
            "Requirement already satisfied: opt-einsum>=2.3.2 in /usr/local/lib/python3.10/dist-packages (from tensorflow==2.11.0) (3.3.0)\n",
            "Requirement already satisfied: packaging in /usr/local/lib/python3.10/dist-packages (from tensorflow==2.11.0) (24.0)\n",
            "Requirement already satisfied: protobuf<3.20,>=3.9.2 in /usr/local/lib/python3.10/dist-packages (from tensorflow==2.11.0) (3.19.6)\n",
            "Requirement already satisfied: setuptools in /usr/local/lib/python3.10/dist-packages (from tensorflow==2.11.0) (67.7.2)\n",
            "Requirement already satisfied: six>=1.12.0 in /usr/local/lib/python3.10/dist-packages (from tensorflow==2.11.0) (1.16.0)\n",
            "Requirement already satisfied: tensorboard<2.12,>=2.11 in /usr/local/lib/python3.10/dist-packages (from tensorflow==2.11.0) (2.11.2)\n",
            "Requirement already satisfied: tensorflow-estimator<2.12,>=2.11.0 in /usr/local/lib/python3.10/dist-packages (from tensorflow==2.11.0) (2.11.0)\n",
            "Requirement already satisfied: termcolor>=1.1.0 in /usr/local/lib/python3.10/dist-packages (from tensorflow==2.11.0) (2.4.0)\n",
            "Requirement already satisfied: typing-extensions>=3.6.6 in /usr/local/lib/python3.10/dist-packages (from tensorflow==2.11.0) (4.11.0)\n",
            "Requirement already satisfied: wrapt>=1.11.0 in /usr/local/lib/python3.10/dist-packages (from tensorflow==2.11.0) (1.14.1)\n",
            "Requirement already satisfied: tensorflow-io-gcs-filesystem>=0.23.1 in /usr/local/lib/python3.10/dist-packages (from tensorflow==2.11.0) (0.37.0)\n",
            "Requirement already satisfied: wheel<1.0,>=0.23.0 in /usr/local/lib/python3.10/dist-packages (from astunparse>=1.6.0->tensorflow==2.11.0) (0.43.0)\n",
            "Requirement already satisfied: google-auth<3,>=1.6.3 in /usr/local/lib/python3.10/dist-packages (from tensorboard<2.12,>=2.11->tensorflow==2.11.0) (2.27.0)\n",
            "Requirement already satisfied: google-auth-oauthlib<0.5,>=0.4.1 in /usr/local/lib/python3.10/dist-packages (from tensorboard<2.12,>=2.11->tensorflow==2.11.0) (0.4.6)\n",
            "Requirement already satisfied: markdown>=2.6.8 in /usr/local/lib/python3.10/dist-packages (from tensorboard<2.12,>=2.11->tensorflow==2.11.0) (3.6)\n",
            "Requirement already satisfied: requests<3,>=2.21.0 in /usr/local/lib/python3.10/dist-packages (from tensorboard<2.12,>=2.11->tensorflow==2.11.0) (2.31.0)\n",
            "Requirement already satisfied: tensorboard-data-server<0.7.0,>=0.6.0 in /usr/local/lib/python3.10/dist-packages (from tensorboard<2.12,>=2.11->tensorflow==2.11.0) (0.6.1)\n",
            "Requirement already satisfied: tensorboard-plugin-wit>=1.6.0 in /usr/local/lib/python3.10/dist-packages (from tensorboard<2.12,>=2.11->tensorflow==2.11.0) (1.8.1)\n",
            "Requirement already satisfied: werkzeug>=1.0.1 in /usr/local/lib/python3.10/dist-packages (from tensorboard<2.12,>=2.11->tensorflow==2.11.0) (3.0.3)\n",
            "Requirement already satisfied: cachetools<6.0,>=2.0.0 in /usr/local/lib/python3.10/dist-packages (from google-auth<3,>=1.6.3->tensorboard<2.12,>=2.11->tensorflow==2.11.0) (5.3.3)\n",
            "Requirement already satisfied: pyasn1-modules>=0.2.1 in /usr/local/lib/python3.10/dist-packages (from google-auth<3,>=1.6.3->tensorboard<2.12,>=2.11->tensorflow==2.11.0) (0.4.0)\n",
            "Requirement already satisfied: rsa<5,>=3.1.4 in /usr/local/lib/python3.10/dist-packages (from google-auth<3,>=1.6.3->tensorboard<2.12,>=2.11->tensorflow==2.11.0) (4.9)\n",
            "Requirement already satisfied: requests-oauthlib>=0.7.0 in /usr/local/lib/python3.10/dist-packages (from google-auth-oauthlib<0.5,>=0.4.1->tensorboard<2.12,>=2.11->tensorflow==2.11.0) (1.3.1)\n",
            "Requirement already satisfied: charset-normalizer<4,>=2 in /usr/local/lib/python3.10/dist-packages (from requests<3,>=2.21.0->tensorboard<2.12,>=2.11->tensorflow==2.11.0) (3.3.2)\n",
            "Requirement already satisfied: idna<4,>=2.5 in /usr/local/lib/python3.10/dist-packages (from requests<3,>=2.21.0->tensorboard<2.12,>=2.11->tensorflow==2.11.0) (3.7)\n",
            "Requirement already satisfied: urllib3<3,>=1.21.1 in /usr/local/lib/python3.10/dist-packages (from requests<3,>=2.21.0->tensorboard<2.12,>=2.11->tensorflow==2.11.0) (2.0.7)\n",
            "Requirement already satisfied: certifi>=2017.4.17 in /usr/local/lib/python3.10/dist-packages (from requests<3,>=2.21.0->tensorboard<2.12,>=2.11->tensorflow==2.11.0) (2024.2.2)\n",
            "Requirement already satisfied: MarkupSafe>=2.1.1 in /usr/local/lib/python3.10/dist-packages (from werkzeug>=1.0.1->tensorboard<2.12,>=2.11->tensorflow==2.11.0) (2.1.5)\n",
            "Requirement already satisfied: pyasn1<0.7.0,>=0.4.6 in /usr/local/lib/python3.10/dist-packages (from pyasn1-modules>=0.2.1->google-auth<3,>=1.6.3->tensorboard<2.12,>=2.11->tensorflow==2.11.0) (0.6.0)\n",
            "Requirement already satisfied: oauthlib>=3.0.0 in /usr/local/lib/python3.10/dist-packages (from requests-oauthlib>=0.7.0->google-auth-oauthlib<0.5,>=0.4.1->tensorboard<2.12,>=2.11->tensorflow==2.11.0) (3.2.2)\n"
          ]
        }
      ],
      "source": [
        "!pip install tensorflow==2.11.0\n"
      ]
    },
    {
      "cell_type": "code",
      "execution_count": 5,
      "metadata": {
        "colab": {
          "base_uri": "https://localhost:8080/",
          "height": 1000
        },
        "id": "4xV20MWncAjo",
        "outputId": "8c1e7f82-ce80-4ceb-9261-e1f08f485ee0"
      },
      "outputs": [
        {
          "output_type": "stream",
          "name": "stdout",
          "text": [
            "Collecting git+https://github.com/VenkateshwaranB/stellargraph.git\n",
            "  Cloning https://github.com/VenkateshwaranB/stellargraph.git to /tmp/pip-req-build-8cpmrn31\n",
            "  Running command git clone --filter=blob:none --quiet https://github.com/VenkateshwaranB/stellargraph.git /tmp/pip-req-build-8cpmrn31\n",
            "  Resolved https://github.com/VenkateshwaranB/stellargraph.git to commit efa1f847109a4ba490e7a5105646a20ee09a3243\n",
            "  Preparing metadata (setup.py) ... \u001b[?25l\u001b[?25hdone\n",
            "Requirement already satisfied: tensorflow>=2.1.0 in /usr/local/lib/python3.10/dist-packages (from stellargraph==1.3.0b0) (2.11.0)\n",
            "Requirement already satisfied: numpy>=1.14 in /usr/local/lib/python3.10/dist-packages (from stellargraph==1.3.0b0) (1.25.2)\n",
            "Requirement already satisfied: scipy>=1.1.0 in /usr/local/lib/python3.10/dist-packages (from stellargraph==1.3.0b0) (1.11.4)\n",
            "Requirement already satisfied: networkx>=2.2 in /usr/local/lib/python3.10/dist-packages (from stellargraph==1.3.0b0) (3.3)\n",
            "Requirement already satisfied: scikit_learn>=0.20 in /usr/local/lib/python3.10/dist-packages (from stellargraph==1.3.0b0) (1.2.2)\n",
            "Requirement already satisfied: matplotlib>=2.2 in /usr/local/lib/python3.10/dist-packages (from stellargraph==1.3.0b0) (3.7.1)\n",
            "Requirement already satisfied: pandas>=0.24 in /usr/local/lib/python3.10/dist-packages (from stellargraph==1.3.0b0) (2.0.3)\n",
            "Requirement already satisfied: contourpy>=1.0.1 in /usr/local/lib/python3.10/dist-packages (from matplotlib>=2.2->stellargraph==1.3.0b0) (1.2.1)\n",
            "Requirement already satisfied: cycler>=0.10 in /usr/local/lib/python3.10/dist-packages (from matplotlib>=2.2->stellargraph==1.3.0b0) (0.12.1)\n",
            "Requirement already satisfied: fonttools>=4.22.0 in /usr/local/lib/python3.10/dist-packages (from matplotlib>=2.2->stellargraph==1.3.0b0) (4.51.0)\n",
            "Requirement already satisfied: kiwisolver>=1.0.1 in /usr/local/lib/python3.10/dist-packages (from matplotlib>=2.2->stellargraph==1.3.0b0) (1.4.5)\n",
            "Requirement already satisfied: packaging>=20.0 in /usr/local/lib/python3.10/dist-packages (from matplotlib>=2.2->stellargraph==1.3.0b0) (24.0)\n",
            "Requirement already satisfied: pillow>=6.2.0 in /usr/local/lib/python3.10/dist-packages (from matplotlib>=2.2->stellargraph==1.3.0b0) (9.4.0)\n",
            "Requirement already satisfied: pyparsing>=2.3.1 in /usr/local/lib/python3.10/dist-packages (from matplotlib>=2.2->stellargraph==1.3.0b0) (3.1.2)\n",
            "Requirement already satisfied: python-dateutil>=2.7 in /usr/local/lib/python3.10/dist-packages (from matplotlib>=2.2->stellargraph==1.3.0b0) (2.8.2)\n",
            "Requirement already satisfied: pytz>=2020.1 in /usr/local/lib/python3.10/dist-packages (from pandas>=0.24->stellargraph==1.3.0b0) (2023.4)\n",
            "Requirement already satisfied: tzdata>=2022.1 in /usr/local/lib/python3.10/dist-packages (from pandas>=0.24->stellargraph==1.3.0b0) (2024.1)\n",
            "Requirement already satisfied: joblib>=1.1.1 in /usr/local/lib/python3.10/dist-packages (from scikit_learn>=0.20->stellargraph==1.3.0b0) (1.4.2)\n",
            "Requirement already satisfied: threadpoolctl>=2.0.0 in /usr/local/lib/python3.10/dist-packages (from scikit_learn>=0.20->stellargraph==1.3.0b0) (3.5.0)\n",
            "Requirement already satisfied: absl-py>=1.0.0 in /usr/local/lib/python3.10/dist-packages (from tensorflow>=2.1.0->stellargraph==1.3.0b0) (1.4.0)\n",
            "Requirement already satisfied: astunparse>=1.6.0 in /usr/local/lib/python3.10/dist-packages (from tensorflow>=2.1.0->stellargraph==1.3.0b0) (1.6.3)\n",
            "Requirement already satisfied: flatbuffers>=2.0 in /usr/local/lib/python3.10/dist-packages (from tensorflow>=2.1.0->stellargraph==1.3.0b0) (24.3.25)\n",
            "Requirement already satisfied: gast<=0.4.0,>=0.2.1 in /usr/local/lib/python3.10/dist-packages (from tensorflow>=2.1.0->stellargraph==1.3.0b0) (0.4.0)\n",
            "Requirement already satisfied: google-pasta>=0.1.1 in /usr/local/lib/python3.10/dist-packages (from tensorflow>=2.1.0->stellargraph==1.3.0b0) (0.2.0)\n",
            "Requirement already satisfied: grpcio<2.0,>=1.24.3 in /usr/local/lib/python3.10/dist-packages (from tensorflow>=2.1.0->stellargraph==1.3.0b0) (1.63.0)\n",
            "Requirement already satisfied: h5py>=2.9.0 in /usr/local/lib/python3.10/dist-packages (from tensorflow>=2.1.0->stellargraph==1.3.0b0) (3.9.0)\n",
            "Requirement already satisfied: keras<2.12,>=2.11.0 in /usr/local/lib/python3.10/dist-packages (from tensorflow>=2.1.0->stellargraph==1.3.0b0) (2.11.0)\n",
            "Requirement already satisfied: libclang>=13.0.0 in /usr/local/lib/python3.10/dist-packages (from tensorflow>=2.1.0->stellargraph==1.3.0b0) (18.1.1)\n",
            "Requirement already satisfied: opt-einsum>=2.3.2 in /usr/local/lib/python3.10/dist-packages (from tensorflow>=2.1.0->stellargraph==1.3.0b0) (3.3.0)\n",
            "Requirement already satisfied: protobuf<3.20,>=3.9.2 in /usr/local/lib/python3.10/dist-packages (from tensorflow>=2.1.0->stellargraph==1.3.0b0) (3.19.6)\n",
            "Requirement already satisfied: setuptools in /usr/local/lib/python3.10/dist-packages (from tensorflow>=2.1.0->stellargraph==1.3.0b0) (67.7.2)\n",
            "Requirement already satisfied: six>=1.12.0 in /usr/local/lib/python3.10/dist-packages (from tensorflow>=2.1.0->stellargraph==1.3.0b0) (1.16.0)\n",
            "Requirement already satisfied: tensorboard<2.12,>=2.11 in /usr/local/lib/python3.10/dist-packages (from tensorflow>=2.1.0->stellargraph==1.3.0b0) (2.11.2)\n",
            "Requirement already satisfied: tensorflow-estimator<2.12,>=2.11.0 in /usr/local/lib/python3.10/dist-packages (from tensorflow>=2.1.0->stellargraph==1.3.0b0) (2.11.0)\n",
            "Requirement already satisfied: termcolor>=1.1.0 in /usr/local/lib/python3.10/dist-packages (from tensorflow>=2.1.0->stellargraph==1.3.0b0) (2.4.0)\n",
            "Requirement already satisfied: typing-extensions>=3.6.6 in /usr/local/lib/python3.10/dist-packages (from tensorflow>=2.1.0->stellargraph==1.3.0b0) (4.11.0)\n",
            "Requirement already satisfied: wrapt>=1.11.0 in /usr/local/lib/python3.10/dist-packages (from tensorflow>=2.1.0->stellargraph==1.3.0b0) (1.14.1)\n",
            "Requirement already satisfied: tensorflow-io-gcs-filesystem>=0.23.1 in /usr/local/lib/python3.10/dist-packages (from tensorflow>=2.1.0->stellargraph==1.3.0b0) (0.37.0)\n",
            "Requirement already satisfied: wheel<1.0,>=0.23.0 in /usr/local/lib/python3.10/dist-packages (from astunparse>=1.6.0->tensorflow>=2.1.0->stellargraph==1.3.0b0) (0.43.0)\n",
            "Requirement already satisfied: google-auth<3,>=1.6.3 in /usr/local/lib/python3.10/dist-packages (from tensorboard<2.12,>=2.11->tensorflow>=2.1.0->stellargraph==1.3.0b0) (2.27.0)\n",
            "Requirement already satisfied: google-auth-oauthlib<0.5,>=0.4.1 in /usr/local/lib/python3.10/dist-packages (from tensorboard<2.12,>=2.11->tensorflow>=2.1.0->stellargraph==1.3.0b0) (0.4.6)\n",
            "Requirement already satisfied: markdown>=2.6.8 in /usr/local/lib/python3.10/dist-packages (from tensorboard<2.12,>=2.11->tensorflow>=2.1.0->stellargraph==1.3.0b0) (3.6)\n",
            "Requirement already satisfied: requests<3,>=2.21.0 in /usr/local/lib/python3.10/dist-packages (from tensorboard<2.12,>=2.11->tensorflow>=2.1.0->stellargraph==1.3.0b0) (2.31.0)\n",
            "Requirement already satisfied: tensorboard-data-server<0.7.0,>=0.6.0 in /usr/local/lib/python3.10/dist-packages (from tensorboard<2.12,>=2.11->tensorflow>=2.1.0->stellargraph==1.3.0b0) (0.6.1)\n",
            "Requirement already satisfied: tensorboard-plugin-wit>=1.6.0 in /usr/local/lib/python3.10/dist-packages (from tensorboard<2.12,>=2.11->tensorflow>=2.1.0->stellargraph==1.3.0b0) (1.8.1)\n",
            "Requirement already satisfied: werkzeug>=1.0.1 in /usr/local/lib/python3.10/dist-packages (from tensorboard<2.12,>=2.11->tensorflow>=2.1.0->stellargraph==1.3.0b0) (3.0.3)\n",
            "Requirement already satisfied: cachetools<6.0,>=2.0.0 in /usr/local/lib/python3.10/dist-packages (from google-auth<3,>=1.6.3->tensorboard<2.12,>=2.11->tensorflow>=2.1.0->stellargraph==1.3.0b0) (5.3.3)\n",
            "Requirement already satisfied: pyasn1-modules>=0.2.1 in /usr/local/lib/python3.10/dist-packages (from google-auth<3,>=1.6.3->tensorboard<2.12,>=2.11->tensorflow>=2.1.0->stellargraph==1.3.0b0) (0.4.0)\n",
            "Requirement already satisfied: rsa<5,>=3.1.4 in /usr/local/lib/python3.10/dist-packages (from google-auth<3,>=1.6.3->tensorboard<2.12,>=2.11->tensorflow>=2.1.0->stellargraph==1.3.0b0) (4.9)\n",
            "Requirement already satisfied: requests-oauthlib>=0.7.0 in /usr/local/lib/python3.10/dist-packages (from google-auth-oauthlib<0.5,>=0.4.1->tensorboard<2.12,>=2.11->tensorflow>=2.1.0->stellargraph==1.3.0b0) (1.3.1)\n",
            "Requirement already satisfied: charset-normalizer<4,>=2 in /usr/local/lib/python3.10/dist-packages (from requests<3,>=2.21.0->tensorboard<2.12,>=2.11->tensorflow>=2.1.0->stellargraph==1.3.0b0) (3.3.2)\n",
            "Requirement already satisfied: idna<4,>=2.5 in /usr/local/lib/python3.10/dist-packages (from requests<3,>=2.21.0->tensorboard<2.12,>=2.11->tensorflow>=2.1.0->stellargraph==1.3.0b0) (3.7)\n",
            "Requirement already satisfied: urllib3<3,>=1.21.1 in /usr/local/lib/python3.10/dist-packages (from requests<3,>=2.21.0->tensorboard<2.12,>=2.11->tensorflow>=2.1.0->stellargraph==1.3.0b0) (2.0.7)\n",
            "Requirement already satisfied: certifi>=2017.4.17 in /usr/local/lib/python3.10/dist-packages (from requests<3,>=2.21.0->tensorboard<2.12,>=2.11->tensorflow>=2.1.0->stellargraph==1.3.0b0) (2024.2.2)\n",
            "Requirement already satisfied: MarkupSafe>=2.1.1 in /usr/local/lib/python3.10/dist-packages (from werkzeug>=1.0.1->tensorboard<2.12,>=2.11->tensorflow>=2.1.0->stellargraph==1.3.0b0) (2.1.5)\n",
            "Requirement already satisfied: pyasn1<0.7.0,>=0.4.6 in /usr/local/lib/python3.10/dist-packages (from pyasn1-modules>=0.2.1->google-auth<3,>=1.6.3->tensorboard<2.12,>=2.11->tensorflow>=2.1.0->stellargraph==1.3.0b0) (0.6.0)\n",
            "Requirement already satisfied: oauthlib>=3.0.0 in /usr/local/lib/python3.10/dist-packages (from requests-oauthlib>=0.7.0->google-auth-oauthlib<0.5,>=0.4.1->tensorboard<2.12,>=2.11->tensorflow>=2.1.0->stellargraph==1.3.0b0) (3.2.2)\n"
          ]
        },
        {
          "output_type": "display_data",
          "data": {
            "text/plain": [
              "<IPython.core.display.Markdown object>"
            ],
            "text/markdown": "<div class=\"alert alert-block alert-danger\">This notebook is designed for an older StellarGraph version 1.2.1 and may not function correctly with the newer installed version 1.3.0b. Please see: <a href=\"https://github.com/stellargraph/stellargraph/issues/1172\">https://github.com/stellargraph/stellargraph/issues/1172</a>.</div>"
          },
          "metadata": {}
        },
        {
          "output_type": "stream",
          "name": "stderr",
          "text": [
            "<ipython-input-5-a1548499260a>:6: DeprecationWarning: This notebook is designed for an older StellarGraph version 1.2.1 and may not function correctly with the newer installed version 1.3.0b. Please see: <https://github.com/stellargraph/stellargraph/issues/1172>.\n",
            "  sg.utils.validate_notebook_version(\"1.2.1\")\n"
          ]
        }
      ],
      "source": [
        "!pip install git+https://github.com/VenkateshwaranB/stellargraph.git\n",
        "# verify that we're using the correct version of StellarGraph for this notebook\n",
        "import stellargraph as sg\n",
        "\n",
        "try:\n",
        "    sg.utils.validate_notebook_version(\"1.2.1\")\n",
        "except AttributeError:\n",
        "    raise ValueError(\n",
        "        f\"This notebook requires StellarGraph version 1.2.1, but a different version {sg.__version__} is installed.  Please see <https://github.com/stellargraph/stellargraph/issues/1172>.\"\n",
        "    ) from None"
      ]
    },
    {
      "cell_type": "code",
      "execution_count": 6,
      "metadata": {
        "id": "LfYnymyMcAjo",
        "scrolled": true
      },
      "outputs": [],
      "source": [
        "import networkx as nx\n",
        "import pandas as pd\n",
        "import itertools\n",
        "import json\n",
        "import os\n",
        "\n",
        "import numpy as np\n",
        "\n",
        "from networkx.readwrite import json_graph\n",
        "\n",
        "from sklearn.preprocessing import StandardScaler\n",
        "\n",
        "import stellargraph as sg\n",
        "from stellargraph.mapper import ClusterNodeGenerator\n",
        "from stellargraph.layer import GCN\n",
        "from stellargraph import globalvar\n",
        "\n",
        "from tensorflow.keras import backend as K\n",
        "\n",
        "from tensorflow.keras import layers, optimizers, losses, metrics, Model\n",
        "from sklearn import preprocessing, feature_extraction, model_selection\n",
        "from stellargraph import datasets\n",
        "from IPython.display import display, HTML\n",
        "from IPython.display import display, HTML\n",
        "import matplotlib.pyplot as plt\n",
        "%matplotlib inline"
      ]
    },
    {
      "cell_type": "markdown",
      "metadata": {
        "id": "Q4CBQdhscAjp"
      },
      "source": [
        "## Loading the dataset\n",
        "\n",
        "This notebook demonstrates node classification using the *Cluster-GCN* algorithm using one of two citation networks, `Cora` and `Pubmed`."
      ]
    },
    {
      "cell_type": "code",
      "execution_count": 7,
      "metadata": {
        "colab": {
          "base_uri": "https://localhost:8080/",
          "height": 86
        },
        "id": "ehL358QdcAjq",
        "outputId": "18db4753-f076-4a5a-d11d-3baf158165d6"
      },
      "outputs": [
        {
          "output_type": "display_data",
          "data": {
            "text/plain": [
              "<IPython.core.display.HTML object>"
            ],
            "text/html": [
              "The Cora dataset consists of 2708 scientific publications classified into one of seven classes. The citation network consists of 5429 links. Each publication in the dataset is described by a 0/1-valued word vector indicating the absence/presence of the corresponding word from the dictionary. The dictionary consists of 1433 unique words."
            ]
          },
          "metadata": {}
        },
        {
          "output_type": "display_data",
          "data": {
            "text/plain": [
              "<IPython.core.display.HTML object>"
            ],
            "text/html": [
              "The PubMed Diabetes dataset consists of 19717 scientific publications from PubMed database pertaining to diabetes classified into one of three classes. The citation network consists of 44338 links. Each publication in the dataset is described by a TF/IDF weighted word vector from a dictionary which consists of 500 unique words."
            ]
          },
          "metadata": {}
        }
      ],
      "source": [
        "display(HTML(datasets.Cora().description))\n",
        "display(HTML(datasets.PubMedDiabetes().description))"
      ]
    },
    {
      "cell_type": "markdown",
      "metadata": {
        "id": "17naeimScAjr"
      },
      "source": [
        "(See [the \"Loading from Pandas\" demo](../basics/loading-pandas.ipynb) for details on how data can be loaded.)"
      ]
    },
    {
      "cell_type": "code",
      "execution_count": 8,
      "metadata": {
        "id": "a3hov1xCcAjr"
      },
      "outputs": [],
      "source": [
        "dataset = \"cora\"  # can also select 'pubmed'\n",
        "\n",
        "if dataset == \"cora\":\n",
        "    G, labels = datasets.Cora().load()\n",
        "elif dataset == \"pubmed\":\n",
        "    G, labels = datasets.PubMedDiabetes().load()"
      ]
    },
    {
      "cell_type": "code",
      "execution_count": 9,
      "metadata": {
        "colab": {
          "base_uri": "https://localhost:8080/"
        },
        "id": "4E8_-7JccAjs",
        "outputId": "d94591f8-c015-4a47-b03b-ea0f84235c4b"
      },
      "outputs": [
        {
          "output_type": "stream",
          "name": "stdout",
          "text": [
            "StellarGraph: Undirected multigraph\n",
            " Nodes: 2708, Edges: 5429\n",
            "\n",
            " Node types:\n",
            "  paper: [2708]\n",
            "    Features: float32 vector, length 1433\n",
            "    Edge types: paper-cites->paper\n",
            "\n",
            " Edge types:\n",
            "    paper-cites->paper: [5429]\n",
            "        Weights: all 1 (default)\n",
            "        Features: none\n"
          ]
        }
      ],
      "source": [
        "print(G.info())"
      ]
    },
    {
      "cell_type": "code",
      "execution_count": 10,
      "metadata": {
        "colab": {
          "base_uri": "https://localhost:8080/"
        },
        "id": "sCns6yzzcAjs",
        "outputId": "039613fb-7281-4ed1-c23f-62a18485db20"
      },
      "outputs": [
        {
          "output_type": "execute_result",
          "data": {
            "text/plain": [
              "{'Case_Based',\n",
              " 'Genetic_Algorithms',\n",
              " 'Neural_Networks',\n",
              " 'Probabilistic_Methods',\n",
              " 'Reinforcement_Learning',\n",
              " 'Rule_Learning',\n",
              " 'Theory'}"
            ]
          },
          "metadata": {},
          "execution_count": 10
        }
      ],
      "source": [
        "set(labels)"
      ]
    },
    {
      "cell_type": "markdown",
      "metadata": {
        "id": "JW8UYBv_cAjs"
      },
      "source": [
        "### Splitting the data"
      ]
    },
    {
      "cell_type": "markdown",
      "metadata": {
        "id": "83CciHaBcAjs"
      },
      "source": [
        "We aim to train a graph-ML model that will predict the **subject** or **label** (depending on the dataset) attribute on the nodes."
      ]
    },
    {
      "cell_type": "markdown",
      "metadata": {
        "id": "VNgnZy6QcAjt"
      },
      "source": [
        "For machine learning we want to take a subset of the nodes for training, and use the rest for validation and testing. We'll use scikit-learn again to do this.\n",
        "\n",
        "The number of labeled nodes we use for training depends on the dataset. We use 140 labeled nodes for `Cora` and 60 for `Pubmed` training. The validation and test sets have the same sizes for both datasets. We use 500 nodes for validation and the rest for testing."
      ]
    },
    {
      "cell_type": "code",
      "execution_count": 11,
      "metadata": {
        "id": "Trz31F-hcAjt"
      },
      "outputs": [],
      "source": [
        "if dataset == \"cora\":\n",
        "    train_size = 140\n",
        "elif dataset == \"pubmed\":\n",
        "    train_size = 60\n",
        "\n",
        "train_labels, test_labels = model_selection.train_test_split(\n",
        "    labels, train_size=train_size, test_size=None, stratify=labels\n",
        ")\n",
        "val_labels, test_labels = model_selection.train_test_split(\n",
        "    test_labels, train_size=500, test_size=None, stratify=test_labels\n",
        ")"
      ]
    },
    {
      "cell_type": "markdown",
      "metadata": {
        "id": "svjuw6rhcAjt"
      },
      "source": [
        "Note using stratified sampling gives the following counts:"
      ]
    },
    {
      "cell_type": "code",
      "execution_count": 12,
      "metadata": {
        "colab": {
          "base_uri": "https://localhost:8080/"
        },
        "id": "okqBMW5QcAjt",
        "outputId": "d51578d0-5e60-4630-bddb-21aa2a846ea8"
      },
      "outputs": [
        {
          "output_type": "execute_result",
          "data": {
            "text/plain": [
              "Counter({'Theory': 18,\n",
              "         'Neural_Networks': 42,\n",
              "         'Probabilistic_Methods': 22,\n",
              "         'Reinforcement_Learning': 11,\n",
              "         'Case_Based': 16,\n",
              "         'Genetic_Algorithms': 22,\n",
              "         'Rule_Learning': 9})"
            ]
          },
          "metadata": {},
          "execution_count": 12
        }
      ],
      "source": [
        "from collections import Counter\n",
        "\n",
        "Counter(train_labels)"
      ]
    },
    {
      "cell_type": "markdown",
      "metadata": {
        "id": "hYRNtZ-2cAjt"
      },
      "source": [
        "The training set has class imbalance that might need to be compensated, e.g., via using a weighted cross-entropy loss in model training, with class weights inversely proportional to class support. However, we will ignore the class imbalance in this example, for simplicity."
      ]
    },
    {
      "cell_type": "markdown",
      "metadata": {
        "id": "6uJgNctYcAjt"
      },
      "source": [
        "### Converting to numeric arrays"
      ]
    },
    {
      "cell_type": "markdown",
      "metadata": {
        "id": "STArIoJwcAjt"
      },
      "source": [
        "For our categorical target, we will use one-hot vectors that will be fed into a soft-max Keras layer during training."
      ]
    },
    {
      "cell_type": "code",
      "execution_count": 13,
      "metadata": {
        "id": "FG5m2pE3cAju"
      },
      "outputs": [],
      "source": [
        "target_encoding = preprocessing.LabelBinarizer()\n",
        "\n",
        "train_targets = target_encoding.fit_transform(train_labels)\n",
        "val_targets = target_encoding.transform(val_labels)\n",
        "test_targets = target_encoding.transform(test_labels)"
      ]
    },
    {
      "cell_type": "markdown",
      "metadata": {
        "id": "uxWKLtsGcAju"
      },
      "source": [
        "Next, we prepare a Pandas DataFrame holding the node attributes we want to use to predict the subject. These are the feature vectors that the Keras model will use as input. `Cora` contains attributes 'w_x' that correspond to words found in that publication. If a word occurs more than once in a publication the relevant attribute will be set to one, otherwise it will be zero. `Pubmed` has similar feature vectors associated with each node but the values are [tf-idf.](https://en.wikipedia.org/wiki/Tf%E2%80%93idf)"
      ]
    },
    {
      "cell_type": "markdown",
      "metadata": {
        "id": "76XCKAtncAju"
      },
      "source": [
        "## Train using cluster GCN"
      ]
    },
    {
      "cell_type": "markdown",
      "metadata": {
        "id": "qjbZt7ODcAju"
      },
      "source": [
        "### Graph Clustering\n",
        "\n",
        "*Cluster-GCN* requires that a graph is clustered into `k` non-overlapping subgraphs. These subgraphs are used as batches to train a *GCN* model.\n",
        "\n",
        "Any graph clustering method can be used, including random clustering that is the default clustering method in `StellarGraph`.\n",
        "\n",
        "However, the choice of clustering algorithm can have a large impact on performance. In the *Cluster-GCN* paper, [1], it is suggested that the *METIS* algorithm is used as it produces subgraphs that are well connected with few intra-graph edges.\n",
        "\n",
        "This demo uses random clustering by default.\n",
        "\n",
        "#### METIS\n",
        "\n",
        "In order to use *METIS*, you must download and install the official implementation from [here](http://glaros.dtc.umn.edu/gkhome/views/metis). Also, you must install the Python `metis` library by following the instructions [here.](https://metis.readthedocs.io/en/latest/)"
      ]
    },
    {
      "cell_type": "code",
      "execution_count": 14,
      "metadata": {
        "colab": {
          "base_uri": "https://localhost:8080/"
        },
        "id": "qOPOaBpGffMj",
        "outputId": "fc16ac1c-889e-4b92-ad94-9c1f2b0760b0"
      },
      "outputs": [
        {
          "output_type": "stream",
          "name": "stdout",
          "text": [
            "/content/metis-5.1.0\n",
            "rm -rf build/Linux-x86_64\n",
            "mkdir -p build/Linux-x86_64\n",
            "cd build/Linux-x86_64 && cmake /content/metis-5.1.0 -DCMAKE_VERBOSE_MAKEFILE=1 -DGKLIB_PATH=/content/metis-5.1.0/GKlib -DCMAKE_INSTALL_PREFIX=/root/.local/ -DSHARED=1\n",
            "\u001b[0mCMake Deprecation Warning at CMakeLists.txt:1 (cmake_minimum_required):\n",
            "  Compatibility with CMake < 3.5 will be removed from a future version of\n",
            "  CMake.\n",
            "\n",
            "  Update the VERSION argument <min> value or use a ...<max> suffix to tell\n",
            "  CMake that the project does not need compatibility with older versions.\n",
            "\n",
            "\u001b[0m\n",
            "-- The C compiler identification is GNU 11.4.0\n",
            "-- The CXX compiler identification is GNU 11.4.0\n",
            "-- Detecting C compiler ABI info\n",
            "-- Detecting C compiler ABI info - done\n",
            "-- Check for working C compiler: /usr/bin/cc - skipped\n",
            "-- Detecting C compile features\n",
            "-- Detecting C compile features - done\n",
            "-- Detecting CXX compiler ABI info\n",
            "-- Detecting CXX compiler ABI info - done\n",
            "-- Check for working CXX compiler: /usr/bin/c++ - skipped\n",
            "-- Detecting CXX compile features\n",
            "-- Detecting CXX compile features - done\n",
            "-- Looking for execinfo.h\n",
            "-- Looking for execinfo.h - found\n",
            "-- Looking for getline\n",
            "-- Looking for getline - found\n",
            "-- checking for thread-local storage - found\n",
            "-- Configuring done (1.7s)\n",
            "-- Generating done (0.0s)\n",
            "-- Build files have been written to: /content/metis-5.1.0/build/Linux-x86_64\n",
            "make[1]: Entering directory '/content/metis-5.1.0/build/Linux-x86_64'\n",
            "/usr/local/lib/python3.10/dist-packages/cmake/data/bin/cmake -S/content/metis-5.1.0 -B/content/metis-5.1.0/build/Linux-x86_64 --check-build-system CMakeFiles/Makefile.cmake 0\n",
            "/usr/local/lib/python3.10/dist-packages/cmake/data/bin/cmake -E cmake_progress_start /content/metis-5.1.0/build/Linux-x86_64/CMakeFiles /content/metis-5.1.0/build/Linux-x86_64//CMakeFiles/progress.marks\n",
            "make  -f CMakeFiles/Makefile2 all\n",
            "make[2]: Entering directory '/content/metis-5.1.0/build/Linux-x86_64'\n",
            "make  -f libmetis/CMakeFiles/metis.dir/build.make libmetis/CMakeFiles/metis.dir/depend\n",
            "make[3]: Entering directory '/content/metis-5.1.0/build/Linux-x86_64'\n",
            "cd /content/metis-5.1.0/build/Linux-x86_64 && /usr/local/lib/python3.10/dist-packages/cmake/data/bin/cmake -E cmake_depends \"Unix Makefiles\" /content/metis-5.1.0 /content/metis-5.1.0/libmetis /content/metis-5.1.0/build/Linux-x86_64 /content/metis-5.1.0/build/Linux-x86_64/libmetis /content/metis-5.1.0/build/Linux-x86_64/libmetis/CMakeFiles/metis.dir/DependInfo.cmake \"--color=\"\n",
            "make[3]: Leaving directory '/content/metis-5.1.0/build/Linux-x86_64'\n",
            "make  -f libmetis/CMakeFiles/metis.dir/build.make libmetis/CMakeFiles/metis.dir/build\n",
            "make[3]: Entering directory '/content/metis-5.1.0/build/Linux-x86_64'\n",
            "[  1%] \u001b[32mBuilding C object libmetis/CMakeFiles/metis.dir/__/GKlib/b64.c.o\u001b[0m\n",
            "cd /content/metis-5.1.0/build/Linux-x86_64/libmetis && /usr/bin/cc -Dmetis_EXPORTS -I/content/metis-5.1.0/GKlib -I/content/metis-5.1.0/include -I/content/metis-5.1.0/libmetis/. -DLINUX -D_FILE_OFFSET_BITS=64 -std=c99 -fno-strict-aliasing -fPIC -Wall -pedantic -Wno-unused-but-set-variable -Wno-unused-variable -Wno-unknown-pragmas -DNDEBUG -DNDEBUG2 -DHAVE_EXECINFO_H -DHAVE_GETLINE -O3 -fPIC -MD -MT libmetis/CMakeFiles/metis.dir/__/GKlib/b64.c.o -MF CMakeFiles/metis.dir/__/GKlib/b64.c.o.d -o CMakeFiles/metis.dir/__/GKlib/b64.c.o -c /content/metis-5.1.0/GKlib/b64.c\n",
            "[  2%] \u001b[32mBuilding C object libmetis/CMakeFiles/metis.dir/__/GKlib/blas.c.o\u001b[0m\n",
            "cd /content/metis-5.1.0/build/Linux-x86_64/libmetis && /usr/bin/cc -Dmetis_EXPORTS -I/content/metis-5.1.0/GKlib -I/content/metis-5.1.0/include -I/content/metis-5.1.0/libmetis/. -DLINUX -D_FILE_OFFSET_BITS=64 -std=c99 -fno-strict-aliasing -fPIC -Wall -pedantic -Wno-unused-but-set-variable -Wno-unused-variable -Wno-unknown-pragmas -DNDEBUG -DNDEBUG2 -DHAVE_EXECINFO_H -DHAVE_GETLINE -O3 -fPIC -MD -MT libmetis/CMakeFiles/metis.dir/__/GKlib/blas.c.o -MF CMakeFiles/metis.dir/__/GKlib/blas.c.o.d -o CMakeFiles/metis.dir/__/GKlib/blas.c.o -c /content/metis-5.1.0/GKlib/blas.c\n",
            "[  3%] \u001b[32mBuilding C object libmetis/CMakeFiles/metis.dir/__/GKlib/csr.c.o\u001b[0m\n",
            "cd /content/metis-5.1.0/build/Linux-x86_64/libmetis && /usr/bin/cc -Dmetis_EXPORTS -I/content/metis-5.1.0/GKlib -I/content/metis-5.1.0/include -I/content/metis-5.1.0/libmetis/. -DLINUX -D_FILE_OFFSET_BITS=64 -std=c99 -fno-strict-aliasing -fPIC -Wall -pedantic -Wno-unused-but-set-variable -Wno-unused-variable -Wno-unknown-pragmas -DNDEBUG -DNDEBUG2 -DHAVE_EXECINFO_H -DHAVE_GETLINE -O3 -fPIC -MD -MT libmetis/CMakeFiles/metis.dir/__/GKlib/csr.c.o -MF CMakeFiles/metis.dir/__/GKlib/csr.c.o.d -o CMakeFiles/metis.dir/__/GKlib/csr.c.o -c /content/metis-5.1.0/GKlib/csr.c\n",
            "\u001b[01m\u001b[K/content/metis-5.1.0/GKlib/csr.c:\u001b[m\u001b[K In function ‘\u001b[01m\u001b[Kgk_csr_Normalize\u001b[m\u001b[K’:\n",
            "\u001b[01m\u001b[K/content/metis-5.1.0/GKlib/csr.c:1344:14:\u001b[m\u001b[K \u001b[01;35m\u001b[Kwarning: \u001b[m\u001b[Kthis ‘\u001b[01m\u001b[Kif\u001b[m\u001b[K’ clause does not guard... [\u001b[01;35m\u001b[K\u001b]8;;https://gcc.gnu.org/onlinedocs/gcc/Warning-Options.html#index-Wmisleading-indentation\u0007-Wmisleading-indentation\u001b]8;;\u0007\u001b[m\u001b[K]\n",
            " 1344 |         else \u001b[01;35m\u001b[Kif\u001b[m\u001b[K (norm == 1)\n",
            "      |              \u001b[01;35m\u001b[K^~\u001b[m\u001b[K\n",
            "\u001b[01m\u001b[K/content/metis-5.1.0/GKlib/csr.c:1346:11:\u001b[m\u001b[K \u001b[01;36m\u001b[Knote: \u001b[m\u001b[K...this statement, but the latter is misleadingly indented as if it were guarded by the ‘\u001b[01m\u001b[Kif\u001b[m\u001b[K’\n",
            " 1346 |           \u001b[01;36m\u001b[Kfor\u001b[m\u001b[K (j=ptr[i]; j<ptr[i+1]; j++)\n",
            "      |           \u001b[01;36m\u001b[K^~~\u001b[m\u001b[K\n",
            "\u001b[01m\u001b[K/content/metis-5.1.0/GKlib/csr.c:1371:14:\u001b[m\u001b[K \u001b[01;35m\u001b[Kwarning: \u001b[m\u001b[Kthis ‘\u001b[01m\u001b[Kif\u001b[m\u001b[K’ clause does not guard... [\u001b[01;35m\u001b[K\u001b]8;;https://gcc.gnu.org/onlinedocs/gcc/Warning-Options.html#index-Wmisleading-indentation\u0007-Wmisleading-indentation\u001b]8;;\u0007\u001b[m\u001b[K]\n",
            " 1371 |         else \u001b[01;35m\u001b[Kif\u001b[m\u001b[K (norm == 1)\n",
            "      |              \u001b[01;35m\u001b[K^~\u001b[m\u001b[K\n",
            "\u001b[01m\u001b[K/content/metis-5.1.0/GKlib/csr.c:1373:11:\u001b[m\u001b[K \u001b[01;36m\u001b[Knote: \u001b[m\u001b[K...this statement, but the latter is misleadingly indented as if it were guarded by the ‘\u001b[01m\u001b[Kif\u001b[m\u001b[K’\n",
            " 1373 |           \u001b[01;36m\u001b[Kfor\u001b[m\u001b[K (j=ptr[i]; j<ptr[i+1]; j++)\n",
            "      |           \u001b[01;36m\u001b[K^~~\u001b[m\u001b[K\n",
            "[  4%] \u001b[32mBuilding C object libmetis/CMakeFiles/metis.dir/__/GKlib/error.c.o\u001b[0m\n",
            "cd /content/metis-5.1.0/build/Linux-x86_64/libmetis && /usr/bin/cc -Dmetis_EXPORTS -I/content/metis-5.1.0/GKlib -I/content/metis-5.1.0/include -I/content/metis-5.1.0/libmetis/. -DLINUX -D_FILE_OFFSET_BITS=64 -std=c99 -fno-strict-aliasing -fPIC -Wall -pedantic -Wno-unused-but-set-variable -Wno-unused-variable -Wno-unknown-pragmas -DNDEBUG -DNDEBUG2 -DHAVE_EXECINFO_H -DHAVE_GETLINE -O3 -fPIC -MD -MT libmetis/CMakeFiles/metis.dir/__/GKlib/error.c.o -MF CMakeFiles/metis.dir/__/GKlib/error.c.o.d -o CMakeFiles/metis.dir/__/GKlib/error.c.o -c /content/metis-5.1.0/GKlib/error.c\n",
            "[  5%] \u001b[32mBuilding C object libmetis/CMakeFiles/metis.dir/__/GKlib/evaluate.c.o\u001b[0m\n",
            "cd /content/metis-5.1.0/build/Linux-x86_64/libmetis && /usr/bin/cc -Dmetis_EXPORTS -I/content/metis-5.1.0/GKlib -I/content/metis-5.1.0/include -I/content/metis-5.1.0/libmetis/. -DLINUX -D_FILE_OFFSET_BITS=64 -std=c99 -fno-strict-aliasing -fPIC -Wall -pedantic -Wno-unused-but-set-variable -Wno-unused-variable -Wno-unknown-pragmas -DNDEBUG -DNDEBUG2 -DHAVE_EXECINFO_H -DHAVE_GETLINE -O3 -fPIC -MD -MT libmetis/CMakeFiles/metis.dir/__/GKlib/evaluate.c.o -MF CMakeFiles/metis.dir/__/GKlib/evaluate.c.o.d -o CMakeFiles/metis.dir/__/GKlib/evaluate.c.o -c /content/metis-5.1.0/GKlib/evaluate.c\n",
            "[  6%] \u001b[32mBuilding C object libmetis/CMakeFiles/metis.dir/__/GKlib/fkvkselect.c.o\u001b[0m\n",
            "cd /content/metis-5.1.0/build/Linux-x86_64/libmetis && /usr/bin/cc -Dmetis_EXPORTS -I/content/metis-5.1.0/GKlib -I/content/metis-5.1.0/include -I/content/metis-5.1.0/libmetis/. -DLINUX -D_FILE_OFFSET_BITS=64 -std=c99 -fno-strict-aliasing -fPIC -Wall -pedantic -Wno-unused-but-set-variable -Wno-unused-variable -Wno-unknown-pragmas -DNDEBUG -DNDEBUG2 -DHAVE_EXECINFO_H -DHAVE_GETLINE -O3 -fPIC -MD -MT libmetis/CMakeFiles/metis.dir/__/GKlib/fkvkselect.c.o -MF CMakeFiles/metis.dir/__/GKlib/fkvkselect.c.o.d -o CMakeFiles/metis.dir/__/GKlib/fkvkselect.c.o -c /content/metis-5.1.0/GKlib/fkvkselect.c\n",
            "[  7%] \u001b[32mBuilding C object libmetis/CMakeFiles/metis.dir/__/GKlib/fs.c.o\u001b[0m\n",
            "cd /content/metis-5.1.0/build/Linux-x86_64/libmetis && /usr/bin/cc -Dmetis_EXPORTS -I/content/metis-5.1.0/GKlib -I/content/metis-5.1.0/include -I/content/metis-5.1.0/libmetis/. -DLINUX -D_FILE_OFFSET_BITS=64 -std=c99 -fno-strict-aliasing -fPIC -Wall -pedantic -Wno-unused-but-set-variable -Wno-unused-variable -Wno-unknown-pragmas -DNDEBUG -DNDEBUG2 -DHAVE_EXECINFO_H -DHAVE_GETLINE -O3 -fPIC -MD -MT libmetis/CMakeFiles/metis.dir/__/GKlib/fs.c.o -MF CMakeFiles/metis.dir/__/GKlib/fs.c.o.d -o CMakeFiles/metis.dir/__/GKlib/fs.c.o -c /content/metis-5.1.0/GKlib/fs.c\n",
            "[  9%] \u001b[32mBuilding C object libmetis/CMakeFiles/metis.dir/__/GKlib/getopt.c.o\u001b[0m\n",
            "cd /content/metis-5.1.0/build/Linux-x86_64/libmetis && /usr/bin/cc -Dmetis_EXPORTS -I/content/metis-5.1.0/GKlib -I/content/metis-5.1.0/include -I/content/metis-5.1.0/libmetis/. -DLINUX -D_FILE_OFFSET_BITS=64 -std=c99 -fno-strict-aliasing -fPIC -Wall -pedantic -Wno-unused-but-set-variable -Wno-unused-variable -Wno-unknown-pragmas -DNDEBUG -DNDEBUG2 -DHAVE_EXECINFO_H -DHAVE_GETLINE -O3 -fPIC -MD -MT libmetis/CMakeFiles/metis.dir/__/GKlib/getopt.c.o -MF CMakeFiles/metis.dir/__/GKlib/getopt.c.o.d -o CMakeFiles/metis.dir/__/GKlib/getopt.c.o -c /content/metis-5.1.0/GKlib/getopt.c\n",
            "\u001b[01m\u001b[K/content/metis-5.1.0/GKlib/getopt.c:\u001b[m\u001b[K In function ‘\u001b[01m\u001b[Kgk_getopt_internal\u001b[m\u001b[K’:\n",
            "\u001b[01m\u001b[K/content/metis-5.1.0/GKlib/getopt.c:343:5:\u001b[m\u001b[K \u001b[01;35m\u001b[Kwarning: \u001b[m\u001b[Kthis ‘\u001b[01m\u001b[Kif\u001b[m\u001b[K’ clause does not guard... [\u001b[01;35m\u001b[K\u001b]8;;https://gcc.gnu.org/onlinedocs/gcc/Warning-Options.html#index-Wmisleading-indentation\u0007-Wmisleading-indentation\u001b]8;;\u0007\u001b[m\u001b[K]\n",
            "  343 |     \u001b[01;35m\u001b[Kif\u001b[m\u001b[K (gk_optind == 0)\n",
            "      |     \u001b[01;35m\u001b[K^~\u001b[m\u001b[K\n",
            "\u001b[01m\u001b[K/content/metis-5.1.0/GKlib/getopt.c:345:7:\u001b[m\u001b[K \u001b[01;36m\u001b[Knote: \u001b[m\u001b[K...this statement, but the latter is misleadingly indented as if it were guarded by the ‘\u001b[01m\u001b[Kif\u001b[m\u001b[K’\n",
            "  345 |       \u001b[01;36m\u001b[Koptstring\u001b[m\u001b[K = gk_getopt_initialize (argc, argv, optstring);\n",
            "      |       \u001b[01;36m\u001b[K^~~~~~~~~\u001b[m\u001b[K\n",
            "\u001b[01m\u001b[K/content/metis-5.1.0/GKlib/getopt.c:700:9:\u001b[m\u001b[K \u001b[01;35m\u001b[Kwarning: \u001b[m\u001b[Kthis ‘\u001b[01m\u001b[Kelse\u001b[m\u001b[K’ clause does not guard... [\u001b[01;35m\u001b[K\u001b]8;;https://gcc.gnu.org/onlinedocs/gcc/Warning-Options.html#index-Wmisleading-indentation\u0007-Wmisleading-indentation\u001b]8;;\u0007\u001b[m\u001b[K]\n",
            "  700 |         \u001b[01;35m\u001b[Kelse\u001b[m\u001b[K\n",
            "      |         \u001b[01;35m\u001b[K^~~~\u001b[m\u001b[K\n",
            "\u001b[01m\u001b[K/content/metis-5.1.0/GKlib/getopt.c:703:11:\u001b[m\u001b[K \u001b[01;36m\u001b[Knote: \u001b[m\u001b[K...this statement, but the latter is misleadingly indented as if it were guarded by the ‘\u001b[01m\u001b[Kelse\u001b[m\u001b[K’\n",
            "  703 |           \u001b[01;36m\u001b[Knextchar\u001b[m\u001b[K = NULL;\n",
            "      |           \u001b[01;36m\u001b[K^~~~~~~~\u001b[m\u001b[K\n",
            "[ 10%] \u001b[32mBuilding C object libmetis/CMakeFiles/metis.dir/__/GKlib/gkregex.c.o\u001b[0m\n",
            "cd /content/metis-5.1.0/build/Linux-x86_64/libmetis && /usr/bin/cc -Dmetis_EXPORTS -I/content/metis-5.1.0/GKlib -I/content/metis-5.1.0/include -I/content/metis-5.1.0/libmetis/. -DLINUX -D_FILE_OFFSET_BITS=64 -std=c99 -fno-strict-aliasing -fPIC -Wall -pedantic -Wno-unused-but-set-variable -Wno-unused-variable -Wno-unknown-pragmas -DNDEBUG -DNDEBUG2 -DHAVE_EXECINFO_H -DHAVE_GETLINE -O3 -fPIC -MD -MT libmetis/CMakeFiles/metis.dir/__/GKlib/gkregex.c.o -MF CMakeFiles/metis.dir/__/GKlib/gkregex.c.o.d -o CMakeFiles/metis.dir/__/GKlib/gkregex.c.o -c /content/metis-5.1.0/GKlib/gkregex.c\n",
            "[ 11%] \u001b[32mBuilding C object libmetis/CMakeFiles/metis.dir/__/GKlib/graph.c.o\u001b[0m\n",
            "cd /content/metis-5.1.0/build/Linux-x86_64/libmetis && /usr/bin/cc -Dmetis_EXPORTS -I/content/metis-5.1.0/GKlib -I/content/metis-5.1.0/include -I/content/metis-5.1.0/libmetis/. -DLINUX -D_FILE_OFFSET_BITS=64 -std=c99 -fno-strict-aliasing -fPIC -Wall -pedantic -Wno-unused-but-set-variable -Wno-unused-variable -Wno-unknown-pragmas -DNDEBUG -DNDEBUG2 -DHAVE_EXECINFO_H -DHAVE_GETLINE -O3 -fPIC -MD -MT libmetis/CMakeFiles/metis.dir/__/GKlib/graph.c.o -MF CMakeFiles/metis.dir/__/GKlib/graph.c.o.d -o CMakeFiles/metis.dir/__/GKlib/graph.c.o -c /content/metis-5.1.0/GKlib/graph.c\n",
            "[ 12%] \u001b[32mBuilding C object libmetis/CMakeFiles/metis.dir/__/GKlib/htable.c.o\u001b[0m\n",
            "cd /content/metis-5.1.0/build/Linux-x86_64/libmetis && /usr/bin/cc -Dmetis_EXPORTS -I/content/metis-5.1.0/GKlib -I/content/metis-5.1.0/include -I/content/metis-5.1.0/libmetis/. -DLINUX -D_FILE_OFFSET_BITS=64 -std=c99 -fno-strict-aliasing -fPIC -Wall -pedantic -Wno-unused-but-set-variable -Wno-unused-variable -Wno-unknown-pragmas -DNDEBUG -DNDEBUG2 -DHAVE_EXECINFO_H -DHAVE_GETLINE -O3 -fPIC -MD -MT libmetis/CMakeFiles/metis.dir/__/GKlib/htable.c.o -MF CMakeFiles/metis.dir/__/GKlib/htable.c.o.d -o CMakeFiles/metis.dir/__/GKlib/htable.c.o -c /content/metis-5.1.0/GKlib/htable.c\n",
            "[ 13%] \u001b[32mBuilding C object libmetis/CMakeFiles/metis.dir/__/GKlib/io.c.o\u001b[0m\n",
            "cd /content/metis-5.1.0/build/Linux-x86_64/libmetis && /usr/bin/cc -Dmetis_EXPORTS -I/content/metis-5.1.0/GKlib -I/content/metis-5.1.0/include -I/content/metis-5.1.0/libmetis/. -DLINUX -D_FILE_OFFSET_BITS=64 -std=c99 -fno-strict-aliasing -fPIC -Wall -pedantic -Wno-unused-but-set-variable -Wno-unused-variable -Wno-unknown-pragmas -DNDEBUG -DNDEBUG2 -DHAVE_EXECINFO_H -DHAVE_GETLINE -O3 -fPIC -MD -MT libmetis/CMakeFiles/metis.dir/__/GKlib/io.c.o -MF CMakeFiles/metis.dir/__/GKlib/io.c.o.d -o CMakeFiles/metis.dir/__/GKlib/io.c.o -c /content/metis-5.1.0/GKlib/io.c\n",
            "[ 14%] \u001b[32mBuilding C object libmetis/CMakeFiles/metis.dir/__/GKlib/itemsets.c.o\u001b[0m\n",
            "cd /content/metis-5.1.0/build/Linux-x86_64/libmetis && /usr/bin/cc -Dmetis_EXPORTS -I/content/metis-5.1.0/GKlib -I/content/metis-5.1.0/include -I/content/metis-5.1.0/libmetis/. -DLINUX -D_FILE_OFFSET_BITS=64 -std=c99 -fno-strict-aliasing -fPIC -Wall -pedantic -Wno-unused-but-set-variable -Wno-unused-variable -Wno-unknown-pragmas -DNDEBUG -DNDEBUG2 -DHAVE_EXECINFO_H -DHAVE_GETLINE -O3 -fPIC -MD -MT libmetis/CMakeFiles/metis.dir/__/GKlib/itemsets.c.o -MF CMakeFiles/metis.dir/__/GKlib/itemsets.c.o.d -o CMakeFiles/metis.dir/__/GKlib/itemsets.c.o -c /content/metis-5.1.0/GKlib/itemsets.c\n",
            "[ 15%] \u001b[32mBuilding C object libmetis/CMakeFiles/metis.dir/__/GKlib/mcore.c.o\u001b[0m\n",
            "cd /content/metis-5.1.0/build/Linux-x86_64/libmetis && /usr/bin/cc -Dmetis_EXPORTS -I/content/metis-5.1.0/GKlib -I/content/metis-5.1.0/include -I/content/metis-5.1.0/libmetis/. -DLINUX -D_FILE_OFFSET_BITS=64 -std=c99 -fno-strict-aliasing -fPIC -Wall -pedantic -Wno-unused-but-set-variable -Wno-unused-variable -Wno-unknown-pragmas -DNDEBUG -DNDEBUG2 -DHAVE_EXECINFO_H -DHAVE_GETLINE -O3 -fPIC -MD -MT libmetis/CMakeFiles/metis.dir/__/GKlib/mcore.c.o -MF CMakeFiles/metis.dir/__/GKlib/mcore.c.o.d -o CMakeFiles/metis.dir/__/GKlib/mcore.c.o -c /content/metis-5.1.0/GKlib/mcore.c\n",
            "[ 17%] \u001b[32mBuilding C object libmetis/CMakeFiles/metis.dir/__/GKlib/memory.c.o\u001b[0m\n",
            "cd /content/metis-5.1.0/build/Linux-x86_64/libmetis && /usr/bin/cc -Dmetis_EXPORTS -I/content/metis-5.1.0/GKlib -I/content/metis-5.1.0/include -I/content/metis-5.1.0/libmetis/. -DLINUX -D_FILE_OFFSET_BITS=64 -std=c99 -fno-strict-aliasing -fPIC -Wall -pedantic -Wno-unused-but-set-variable -Wno-unused-variable -Wno-unknown-pragmas -DNDEBUG -DNDEBUG2 -DHAVE_EXECINFO_H -DHAVE_GETLINE -O3 -fPIC -MD -MT libmetis/CMakeFiles/metis.dir/__/GKlib/memory.c.o -MF CMakeFiles/metis.dir/__/GKlib/memory.c.o.d -o CMakeFiles/metis.dir/__/GKlib/memory.c.o -c /content/metis-5.1.0/GKlib/memory.c\n",
            "[ 18%] \u001b[32mBuilding C object libmetis/CMakeFiles/metis.dir/__/GKlib/omp.c.o\u001b[0m\n",
            "cd /content/metis-5.1.0/build/Linux-x86_64/libmetis && /usr/bin/cc -Dmetis_EXPORTS -I/content/metis-5.1.0/GKlib -I/content/metis-5.1.0/include -I/content/metis-5.1.0/libmetis/. -DLINUX -D_FILE_OFFSET_BITS=64 -std=c99 -fno-strict-aliasing -fPIC -Wall -pedantic -Wno-unused-but-set-variable -Wno-unused-variable -Wno-unknown-pragmas -DNDEBUG -DNDEBUG2 -DHAVE_EXECINFO_H -DHAVE_GETLINE -O3 -fPIC -MD -MT libmetis/CMakeFiles/metis.dir/__/GKlib/omp.c.o -MF CMakeFiles/metis.dir/__/GKlib/omp.c.o.d -o CMakeFiles/metis.dir/__/GKlib/omp.c.o -c /content/metis-5.1.0/GKlib/omp.c\n",
            "[ 19%] \u001b[32mBuilding C object libmetis/CMakeFiles/metis.dir/__/GKlib/pdb.c.o\u001b[0m\n",
            "cd /content/metis-5.1.0/build/Linux-x86_64/libmetis && /usr/bin/cc -Dmetis_EXPORTS -I/content/metis-5.1.0/GKlib -I/content/metis-5.1.0/include -I/content/metis-5.1.0/libmetis/. -DLINUX -D_FILE_OFFSET_BITS=64 -std=c99 -fno-strict-aliasing -fPIC -Wall -pedantic -Wno-unused-but-set-variable -Wno-unused-variable -Wno-unknown-pragmas -DNDEBUG -DNDEBUG2 -DHAVE_EXECINFO_H -DHAVE_GETLINE -O3 -fPIC -MD -MT libmetis/CMakeFiles/metis.dir/__/GKlib/pdb.c.o -MF CMakeFiles/metis.dir/__/GKlib/pdb.c.o.d -o CMakeFiles/metis.dir/__/GKlib/pdb.c.o -c /content/metis-5.1.0/GKlib/pdb.c\n",
            "[ 20%] \u001b[32mBuilding C object libmetis/CMakeFiles/metis.dir/__/GKlib/pqueue.c.o\u001b[0m\n",
            "cd /content/metis-5.1.0/build/Linux-x86_64/libmetis && /usr/bin/cc -Dmetis_EXPORTS -I/content/metis-5.1.0/GKlib -I/content/metis-5.1.0/include -I/content/metis-5.1.0/libmetis/. -DLINUX -D_FILE_OFFSET_BITS=64 -std=c99 -fno-strict-aliasing -fPIC -Wall -pedantic -Wno-unused-but-set-variable -Wno-unused-variable -Wno-unknown-pragmas -DNDEBUG -DNDEBUG2 -DHAVE_EXECINFO_H -DHAVE_GETLINE -O3 -fPIC -MD -MT libmetis/CMakeFiles/metis.dir/__/GKlib/pqueue.c.o -MF CMakeFiles/metis.dir/__/GKlib/pqueue.c.o.d -o CMakeFiles/metis.dir/__/GKlib/pqueue.c.o -c /content/metis-5.1.0/GKlib/pqueue.c\n",
            "[ 21%] \u001b[32mBuilding C object libmetis/CMakeFiles/metis.dir/__/GKlib/random.c.o\u001b[0m\n",
            "cd /content/metis-5.1.0/build/Linux-x86_64/libmetis && /usr/bin/cc -Dmetis_EXPORTS -I/content/metis-5.1.0/GKlib -I/content/metis-5.1.0/include -I/content/metis-5.1.0/libmetis/. -DLINUX -D_FILE_OFFSET_BITS=64 -std=c99 -fno-strict-aliasing -fPIC -Wall -pedantic -Wno-unused-but-set-variable -Wno-unused-variable -Wno-unknown-pragmas -DNDEBUG -DNDEBUG2 -DHAVE_EXECINFO_H -DHAVE_GETLINE -O3 -fPIC -MD -MT libmetis/CMakeFiles/metis.dir/__/GKlib/random.c.o -MF CMakeFiles/metis.dir/__/GKlib/random.c.o.d -o CMakeFiles/metis.dir/__/GKlib/random.c.o -c /content/metis-5.1.0/GKlib/random.c\n",
            "[ 22%] \u001b[32mBuilding C object libmetis/CMakeFiles/metis.dir/__/GKlib/rw.c.o\u001b[0m\n",
            "cd /content/metis-5.1.0/build/Linux-x86_64/libmetis && /usr/bin/cc -Dmetis_EXPORTS -I/content/metis-5.1.0/GKlib -I/content/metis-5.1.0/include -I/content/metis-5.1.0/libmetis/. -DLINUX -D_FILE_OFFSET_BITS=64 -std=c99 -fno-strict-aliasing -fPIC -Wall -pedantic -Wno-unused-but-set-variable -Wno-unused-variable -Wno-unknown-pragmas -DNDEBUG -DNDEBUG2 -DHAVE_EXECINFO_H -DHAVE_GETLINE -O3 -fPIC -MD -MT libmetis/CMakeFiles/metis.dir/__/GKlib/rw.c.o -MF CMakeFiles/metis.dir/__/GKlib/rw.c.o.d -o CMakeFiles/metis.dir/__/GKlib/rw.c.o -c /content/metis-5.1.0/GKlib/rw.c\n",
            "[ 23%] \u001b[32mBuilding C object libmetis/CMakeFiles/metis.dir/__/GKlib/seq.c.o\u001b[0m\n",
            "cd /content/metis-5.1.0/build/Linux-x86_64/libmetis && /usr/bin/cc -Dmetis_EXPORTS -I/content/metis-5.1.0/GKlib -I/content/metis-5.1.0/include -I/content/metis-5.1.0/libmetis/. -DLINUX -D_FILE_OFFSET_BITS=64 -std=c99 -fno-strict-aliasing -fPIC -Wall -pedantic -Wno-unused-but-set-variable -Wno-unused-variable -Wno-unknown-pragmas -DNDEBUG -DNDEBUG2 -DHAVE_EXECINFO_H -DHAVE_GETLINE -O3 -fPIC -MD -MT libmetis/CMakeFiles/metis.dir/__/GKlib/seq.c.o -MF CMakeFiles/metis.dir/__/GKlib/seq.c.o.d -o CMakeFiles/metis.dir/__/GKlib/seq.c.o -c /content/metis-5.1.0/GKlib/seq.c\n",
            "[ 25%] \u001b[32mBuilding C object libmetis/CMakeFiles/metis.dir/__/GKlib/sort.c.o\u001b[0m\n",
            "cd /content/metis-5.1.0/build/Linux-x86_64/libmetis && /usr/bin/cc -Dmetis_EXPORTS -I/content/metis-5.1.0/GKlib -I/content/metis-5.1.0/include -I/content/metis-5.1.0/libmetis/. -DLINUX -D_FILE_OFFSET_BITS=64 -std=c99 -fno-strict-aliasing -fPIC -Wall -pedantic -Wno-unused-but-set-variable -Wno-unused-variable -Wno-unknown-pragmas -DNDEBUG -DNDEBUG2 -DHAVE_EXECINFO_H -DHAVE_GETLINE -O3 -fPIC -MD -MT libmetis/CMakeFiles/metis.dir/__/GKlib/sort.c.o -MF CMakeFiles/metis.dir/__/GKlib/sort.c.o.d -o CMakeFiles/metis.dir/__/GKlib/sort.c.o -c /content/metis-5.1.0/GKlib/sort.c\n",
            "[ 26%] \u001b[32mBuilding C object libmetis/CMakeFiles/metis.dir/__/GKlib/string.c.o\u001b[0m\n",
            "cd /content/metis-5.1.0/build/Linux-x86_64/libmetis && /usr/bin/cc -Dmetis_EXPORTS -I/content/metis-5.1.0/GKlib -I/content/metis-5.1.0/include -I/content/metis-5.1.0/libmetis/. -DLINUX -D_FILE_OFFSET_BITS=64 -std=c99 -fno-strict-aliasing -fPIC -Wall -pedantic -Wno-unused-but-set-variable -Wno-unused-variable -Wno-unknown-pragmas -DNDEBUG -DNDEBUG2 -DHAVE_EXECINFO_H -DHAVE_GETLINE -O3 -fPIC -MD -MT libmetis/CMakeFiles/metis.dir/__/GKlib/string.c.o -MF CMakeFiles/metis.dir/__/GKlib/string.c.o.d -o CMakeFiles/metis.dir/__/GKlib/string.c.o -c /content/metis-5.1.0/GKlib/string.c\n",
            "[ 27%] \u001b[32mBuilding C object libmetis/CMakeFiles/metis.dir/__/GKlib/timers.c.o\u001b[0m\n",
            "cd /content/metis-5.1.0/build/Linux-x86_64/libmetis && /usr/bin/cc -Dmetis_EXPORTS -I/content/metis-5.1.0/GKlib -I/content/metis-5.1.0/include -I/content/metis-5.1.0/libmetis/. -DLINUX -D_FILE_OFFSET_BITS=64 -std=c99 -fno-strict-aliasing -fPIC -Wall -pedantic -Wno-unused-but-set-variable -Wno-unused-variable -Wno-unknown-pragmas -DNDEBUG -DNDEBUG2 -DHAVE_EXECINFO_H -DHAVE_GETLINE -O3 -fPIC -MD -MT libmetis/CMakeFiles/metis.dir/__/GKlib/timers.c.o -MF CMakeFiles/metis.dir/__/GKlib/timers.c.o.d -o CMakeFiles/metis.dir/__/GKlib/timers.c.o -c /content/metis-5.1.0/GKlib/timers.c\n",
            "[ 28%] \u001b[32mBuilding C object libmetis/CMakeFiles/metis.dir/__/GKlib/tokenizer.c.o\u001b[0m\n",
            "cd /content/metis-5.1.0/build/Linux-x86_64/libmetis && /usr/bin/cc -Dmetis_EXPORTS -I/content/metis-5.1.0/GKlib -I/content/metis-5.1.0/include -I/content/metis-5.1.0/libmetis/. -DLINUX -D_FILE_OFFSET_BITS=64 -std=c99 -fno-strict-aliasing -fPIC -Wall -pedantic -Wno-unused-but-set-variable -Wno-unused-variable -Wno-unknown-pragmas -DNDEBUG -DNDEBUG2 -DHAVE_EXECINFO_H -DHAVE_GETLINE -O3 -fPIC -MD -MT libmetis/CMakeFiles/metis.dir/__/GKlib/tokenizer.c.o -MF CMakeFiles/metis.dir/__/GKlib/tokenizer.c.o.d -o CMakeFiles/metis.dir/__/GKlib/tokenizer.c.o -c /content/metis-5.1.0/GKlib/tokenizer.c\n",
            "[ 29%] \u001b[32mBuilding C object libmetis/CMakeFiles/metis.dir/__/GKlib/util.c.o\u001b[0m\n",
            "cd /content/metis-5.1.0/build/Linux-x86_64/libmetis && /usr/bin/cc -Dmetis_EXPORTS -I/content/metis-5.1.0/GKlib -I/content/metis-5.1.0/include -I/content/metis-5.1.0/libmetis/. -DLINUX -D_FILE_OFFSET_BITS=64 -std=c99 -fno-strict-aliasing -fPIC -Wall -pedantic -Wno-unused-but-set-variable -Wno-unused-variable -Wno-unknown-pragmas -DNDEBUG -DNDEBUG2 -DHAVE_EXECINFO_H -DHAVE_GETLINE -O3 -fPIC -MD -MT libmetis/CMakeFiles/metis.dir/__/GKlib/util.c.o -MF CMakeFiles/metis.dir/__/GKlib/util.c.o.d -o CMakeFiles/metis.dir/__/GKlib/util.c.o -c /content/metis-5.1.0/GKlib/util.c\n",
            "[ 30%] \u001b[32mBuilding C object libmetis/CMakeFiles/metis.dir/auxapi.c.o\u001b[0m\n",
            "cd /content/metis-5.1.0/build/Linux-x86_64/libmetis && /usr/bin/cc -Dmetis_EXPORTS -I/content/metis-5.1.0/GKlib -I/content/metis-5.1.0/include -I/content/metis-5.1.0/libmetis/. -DLINUX -D_FILE_OFFSET_BITS=64 -std=c99 -fno-strict-aliasing -fPIC -Wall -pedantic -Wno-unused-but-set-variable -Wno-unused-variable -Wno-unknown-pragmas -DNDEBUG -DNDEBUG2 -DHAVE_EXECINFO_H -DHAVE_GETLINE -O3 -fPIC -MD -MT libmetis/CMakeFiles/metis.dir/auxapi.c.o -MF CMakeFiles/metis.dir/auxapi.c.o.d -o CMakeFiles/metis.dir/auxapi.c.o -c /content/metis-5.1.0/libmetis/auxapi.c\n",
            "[ 31%] \u001b[32mBuilding C object libmetis/CMakeFiles/metis.dir/balance.c.o\u001b[0m\n",
            "cd /content/metis-5.1.0/build/Linux-x86_64/libmetis && /usr/bin/cc -Dmetis_EXPORTS -I/content/metis-5.1.0/GKlib -I/content/metis-5.1.0/include -I/content/metis-5.1.0/libmetis/. -DLINUX -D_FILE_OFFSET_BITS=64 -std=c99 -fno-strict-aliasing -fPIC -Wall -pedantic -Wno-unused-but-set-variable -Wno-unused-variable -Wno-unknown-pragmas -DNDEBUG -DNDEBUG2 -DHAVE_EXECINFO_H -DHAVE_GETLINE -O3 -fPIC -MD -MT libmetis/CMakeFiles/metis.dir/balance.c.o -MF CMakeFiles/metis.dir/balance.c.o.d -o CMakeFiles/metis.dir/balance.c.o -c /content/metis-5.1.0/libmetis/balance.c\n",
            "[ 32%] \u001b[32mBuilding C object libmetis/CMakeFiles/metis.dir/bucketsort.c.o\u001b[0m\n",
            "cd /content/metis-5.1.0/build/Linux-x86_64/libmetis && /usr/bin/cc -Dmetis_EXPORTS -I/content/metis-5.1.0/GKlib -I/content/metis-5.1.0/include -I/content/metis-5.1.0/libmetis/. -DLINUX -D_FILE_OFFSET_BITS=64 -std=c99 -fno-strict-aliasing -fPIC -Wall -pedantic -Wno-unused-but-set-variable -Wno-unused-variable -Wno-unknown-pragmas -DNDEBUG -DNDEBUG2 -DHAVE_EXECINFO_H -DHAVE_GETLINE -O3 -fPIC -MD -MT libmetis/CMakeFiles/metis.dir/bucketsort.c.o -MF CMakeFiles/metis.dir/bucketsort.c.o.d -o CMakeFiles/metis.dir/bucketsort.c.o -c /content/metis-5.1.0/libmetis/bucketsort.c\n",
            "[ 34%] \u001b[32mBuilding C object libmetis/CMakeFiles/metis.dir/checkgraph.c.o\u001b[0m\n",
            "cd /content/metis-5.1.0/build/Linux-x86_64/libmetis && /usr/bin/cc -Dmetis_EXPORTS -I/content/metis-5.1.0/GKlib -I/content/metis-5.1.0/include -I/content/metis-5.1.0/libmetis/. -DLINUX -D_FILE_OFFSET_BITS=64 -std=c99 -fno-strict-aliasing -fPIC -Wall -pedantic -Wno-unused-but-set-variable -Wno-unused-variable -Wno-unknown-pragmas -DNDEBUG -DNDEBUG2 -DHAVE_EXECINFO_H -DHAVE_GETLINE -O3 -fPIC -MD -MT libmetis/CMakeFiles/metis.dir/checkgraph.c.o -MF CMakeFiles/metis.dir/checkgraph.c.o.d -o CMakeFiles/metis.dir/checkgraph.c.o -c /content/metis-5.1.0/libmetis/checkgraph.c\n",
            "[ 35%] \u001b[32mBuilding C object libmetis/CMakeFiles/metis.dir/coarsen.c.o\u001b[0m\n",
            "cd /content/metis-5.1.0/build/Linux-x86_64/libmetis && /usr/bin/cc -Dmetis_EXPORTS -I/content/metis-5.1.0/GKlib -I/content/metis-5.1.0/include -I/content/metis-5.1.0/libmetis/. -DLINUX -D_FILE_OFFSET_BITS=64 -std=c99 -fno-strict-aliasing -fPIC -Wall -pedantic -Wno-unused-but-set-variable -Wno-unused-variable -Wno-unknown-pragmas -DNDEBUG -DNDEBUG2 -DHAVE_EXECINFO_H -DHAVE_GETLINE -O3 -fPIC -MD -MT libmetis/CMakeFiles/metis.dir/coarsen.c.o -MF CMakeFiles/metis.dir/coarsen.c.o.d -o CMakeFiles/metis.dir/coarsen.c.o -c /content/metis-5.1.0/libmetis/coarsen.c\n",
            "[ 36%] \u001b[32mBuilding C object libmetis/CMakeFiles/metis.dir/compress.c.o\u001b[0m\n",
            "cd /content/metis-5.1.0/build/Linux-x86_64/libmetis && /usr/bin/cc -Dmetis_EXPORTS -I/content/metis-5.1.0/GKlib -I/content/metis-5.1.0/include -I/content/metis-5.1.0/libmetis/. -DLINUX -D_FILE_OFFSET_BITS=64 -std=c99 -fno-strict-aliasing -fPIC -Wall -pedantic -Wno-unused-but-set-variable -Wno-unused-variable -Wno-unknown-pragmas -DNDEBUG -DNDEBUG2 -DHAVE_EXECINFO_H -DHAVE_GETLINE -O3 -fPIC -MD -MT libmetis/CMakeFiles/metis.dir/compress.c.o -MF CMakeFiles/metis.dir/compress.c.o.d -o CMakeFiles/metis.dir/compress.c.o -c /content/metis-5.1.0/libmetis/compress.c\n",
            "[ 37%] \u001b[32mBuilding C object libmetis/CMakeFiles/metis.dir/contig.c.o\u001b[0m\n",
            "cd /content/metis-5.1.0/build/Linux-x86_64/libmetis && /usr/bin/cc -Dmetis_EXPORTS -I/content/metis-5.1.0/GKlib -I/content/metis-5.1.0/include -I/content/metis-5.1.0/libmetis/. -DLINUX -D_FILE_OFFSET_BITS=64 -std=c99 -fno-strict-aliasing -fPIC -Wall -pedantic -Wno-unused-but-set-variable -Wno-unused-variable -Wno-unknown-pragmas -DNDEBUG -DNDEBUG2 -DHAVE_EXECINFO_H -DHAVE_GETLINE -O3 -fPIC -MD -MT libmetis/CMakeFiles/metis.dir/contig.c.o -MF CMakeFiles/metis.dir/contig.c.o.d -o CMakeFiles/metis.dir/contig.c.o -c /content/metis-5.1.0/libmetis/contig.c\n",
            "[ 38%] \u001b[32mBuilding C object libmetis/CMakeFiles/metis.dir/debug.c.o\u001b[0m\n",
            "cd /content/metis-5.1.0/build/Linux-x86_64/libmetis && /usr/bin/cc -Dmetis_EXPORTS -I/content/metis-5.1.0/GKlib -I/content/metis-5.1.0/include -I/content/metis-5.1.0/libmetis/. -DLINUX -D_FILE_OFFSET_BITS=64 -std=c99 -fno-strict-aliasing -fPIC -Wall -pedantic -Wno-unused-but-set-variable -Wno-unused-variable -Wno-unknown-pragmas -DNDEBUG -DNDEBUG2 -DHAVE_EXECINFO_H -DHAVE_GETLINE -O3 -fPIC -MD -MT libmetis/CMakeFiles/metis.dir/debug.c.o -MF CMakeFiles/metis.dir/debug.c.o.d -o CMakeFiles/metis.dir/debug.c.o -c /content/metis-5.1.0/libmetis/debug.c\n",
            "[ 39%] \u001b[32mBuilding C object libmetis/CMakeFiles/metis.dir/fm.c.o\u001b[0m\n",
            "cd /content/metis-5.1.0/build/Linux-x86_64/libmetis && /usr/bin/cc -Dmetis_EXPORTS -I/content/metis-5.1.0/GKlib -I/content/metis-5.1.0/include -I/content/metis-5.1.0/libmetis/. -DLINUX -D_FILE_OFFSET_BITS=64 -std=c99 -fno-strict-aliasing -fPIC -Wall -pedantic -Wno-unused-but-set-variable -Wno-unused-variable -Wno-unknown-pragmas -DNDEBUG -DNDEBUG2 -DHAVE_EXECINFO_H -DHAVE_GETLINE -O3 -fPIC -MD -MT libmetis/CMakeFiles/metis.dir/fm.c.o -MF CMakeFiles/metis.dir/fm.c.o.d -o CMakeFiles/metis.dir/fm.c.o -c /content/metis-5.1.0/libmetis/fm.c\n",
            "[ 40%] \u001b[32mBuilding C object libmetis/CMakeFiles/metis.dir/fortran.c.o\u001b[0m\n",
            "cd /content/metis-5.1.0/build/Linux-x86_64/libmetis && /usr/bin/cc -Dmetis_EXPORTS -I/content/metis-5.1.0/GKlib -I/content/metis-5.1.0/include -I/content/metis-5.1.0/libmetis/. -DLINUX -D_FILE_OFFSET_BITS=64 -std=c99 -fno-strict-aliasing -fPIC -Wall -pedantic -Wno-unused-but-set-variable -Wno-unused-variable -Wno-unknown-pragmas -DNDEBUG -DNDEBUG2 -DHAVE_EXECINFO_H -DHAVE_GETLINE -O3 -fPIC -MD -MT libmetis/CMakeFiles/metis.dir/fortran.c.o -MF CMakeFiles/metis.dir/fortran.c.o.d -o CMakeFiles/metis.dir/fortran.c.o -c /content/metis-5.1.0/libmetis/fortran.c\n",
            "[ 42%] \u001b[32mBuilding C object libmetis/CMakeFiles/metis.dir/frename.c.o\u001b[0m\n",
            "cd /content/metis-5.1.0/build/Linux-x86_64/libmetis && /usr/bin/cc -Dmetis_EXPORTS -I/content/metis-5.1.0/GKlib -I/content/metis-5.1.0/include -I/content/metis-5.1.0/libmetis/. -DLINUX -D_FILE_OFFSET_BITS=64 -std=c99 -fno-strict-aliasing -fPIC -Wall -pedantic -Wno-unused-but-set-variable -Wno-unused-variable -Wno-unknown-pragmas -DNDEBUG -DNDEBUG2 -DHAVE_EXECINFO_H -DHAVE_GETLINE -O3 -fPIC -MD -MT libmetis/CMakeFiles/metis.dir/frename.c.o -MF CMakeFiles/metis.dir/frename.c.o.d -o CMakeFiles/metis.dir/frename.c.o -c /content/metis-5.1.0/libmetis/frename.c\n",
            "[ 43%] \u001b[32mBuilding C object libmetis/CMakeFiles/metis.dir/gklib.c.o\u001b[0m\n",
            "cd /content/metis-5.1.0/build/Linux-x86_64/libmetis && /usr/bin/cc -Dmetis_EXPORTS -I/content/metis-5.1.0/GKlib -I/content/metis-5.1.0/include -I/content/metis-5.1.0/libmetis/. -DLINUX -D_FILE_OFFSET_BITS=64 -std=c99 -fno-strict-aliasing -fPIC -Wall -pedantic -Wno-unused-but-set-variable -Wno-unused-variable -Wno-unknown-pragmas -DNDEBUG -DNDEBUG2 -DHAVE_EXECINFO_H -DHAVE_GETLINE -O3 -fPIC -MD -MT libmetis/CMakeFiles/metis.dir/gklib.c.o -MF CMakeFiles/metis.dir/gklib.c.o.d -o CMakeFiles/metis.dir/gklib.c.o -c /content/metis-5.1.0/libmetis/gklib.c\n",
            "[ 44%] \u001b[32mBuilding C object libmetis/CMakeFiles/metis.dir/graph.c.o\u001b[0m\n",
            "cd /content/metis-5.1.0/build/Linux-x86_64/libmetis && /usr/bin/cc -Dmetis_EXPORTS -I/content/metis-5.1.0/GKlib -I/content/metis-5.1.0/include -I/content/metis-5.1.0/libmetis/. -DLINUX -D_FILE_OFFSET_BITS=64 -std=c99 -fno-strict-aliasing -fPIC -Wall -pedantic -Wno-unused-but-set-variable -Wno-unused-variable -Wno-unknown-pragmas -DNDEBUG -DNDEBUG2 -DHAVE_EXECINFO_H -DHAVE_GETLINE -O3 -fPIC -MD -MT libmetis/CMakeFiles/metis.dir/graph.c.o -MF CMakeFiles/metis.dir/graph.c.o.d -o CMakeFiles/metis.dir/graph.c.o -c /content/metis-5.1.0/libmetis/graph.c\n",
            "[ 45%] \u001b[32mBuilding C object libmetis/CMakeFiles/metis.dir/initpart.c.o\u001b[0m\n",
            "cd /content/metis-5.1.0/build/Linux-x86_64/libmetis && /usr/bin/cc -Dmetis_EXPORTS -I/content/metis-5.1.0/GKlib -I/content/metis-5.1.0/include -I/content/metis-5.1.0/libmetis/. -DLINUX -D_FILE_OFFSET_BITS=64 -std=c99 -fno-strict-aliasing -fPIC -Wall -pedantic -Wno-unused-but-set-variable -Wno-unused-variable -Wno-unknown-pragmas -DNDEBUG -DNDEBUG2 -DHAVE_EXECINFO_H -DHAVE_GETLINE -O3 -fPIC -MD -MT libmetis/CMakeFiles/metis.dir/initpart.c.o -MF CMakeFiles/metis.dir/initpart.c.o.d -o CMakeFiles/metis.dir/initpart.c.o -c /content/metis-5.1.0/libmetis/initpart.c\n",
            "[ 46%] \u001b[32mBuilding C object libmetis/CMakeFiles/metis.dir/kmetis.c.o\u001b[0m\n",
            "cd /content/metis-5.1.0/build/Linux-x86_64/libmetis && /usr/bin/cc -Dmetis_EXPORTS -I/content/metis-5.1.0/GKlib -I/content/metis-5.1.0/include -I/content/metis-5.1.0/libmetis/. -DLINUX -D_FILE_OFFSET_BITS=64 -std=c99 -fno-strict-aliasing -fPIC -Wall -pedantic -Wno-unused-but-set-variable -Wno-unused-variable -Wno-unknown-pragmas -DNDEBUG -DNDEBUG2 -DHAVE_EXECINFO_H -DHAVE_GETLINE -O3 -fPIC -MD -MT libmetis/CMakeFiles/metis.dir/kmetis.c.o -MF CMakeFiles/metis.dir/kmetis.c.o.d -o CMakeFiles/metis.dir/kmetis.c.o -c /content/metis-5.1.0/libmetis/kmetis.c\n",
            "[ 47%] \u001b[32mBuilding C object libmetis/CMakeFiles/metis.dir/kwayfm.c.o\u001b[0m\n",
            "cd /content/metis-5.1.0/build/Linux-x86_64/libmetis && /usr/bin/cc -Dmetis_EXPORTS -I/content/metis-5.1.0/GKlib -I/content/metis-5.1.0/include -I/content/metis-5.1.0/libmetis/. -DLINUX -D_FILE_OFFSET_BITS=64 -std=c99 -fno-strict-aliasing -fPIC -Wall -pedantic -Wno-unused-but-set-variable -Wno-unused-variable -Wno-unknown-pragmas -DNDEBUG -DNDEBUG2 -DHAVE_EXECINFO_H -DHAVE_GETLINE -O3 -fPIC -MD -MT libmetis/CMakeFiles/metis.dir/kwayfm.c.o -MF CMakeFiles/metis.dir/kwayfm.c.o.d -o CMakeFiles/metis.dir/kwayfm.c.o -c /content/metis-5.1.0/libmetis/kwayfm.c\n",
            "[ 48%] \u001b[32mBuilding C object libmetis/CMakeFiles/metis.dir/kwayrefine.c.o\u001b[0m\n",
            "cd /content/metis-5.1.0/build/Linux-x86_64/libmetis && /usr/bin/cc -Dmetis_EXPORTS -I/content/metis-5.1.0/GKlib -I/content/metis-5.1.0/include -I/content/metis-5.1.0/libmetis/. -DLINUX -D_FILE_OFFSET_BITS=64 -std=c99 -fno-strict-aliasing -fPIC -Wall -pedantic -Wno-unused-but-set-variable -Wno-unused-variable -Wno-unknown-pragmas -DNDEBUG -DNDEBUG2 -DHAVE_EXECINFO_H -DHAVE_GETLINE -O3 -fPIC -MD -MT libmetis/CMakeFiles/metis.dir/kwayrefine.c.o -MF CMakeFiles/metis.dir/kwayrefine.c.o.d -o CMakeFiles/metis.dir/kwayrefine.c.o -c /content/metis-5.1.0/libmetis/kwayrefine.c\n",
            "[ 50%] \u001b[32mBuilding C object libmetis/CMakeFiles/metis.dir/mcutil.c.o\u001b[0m\n",
            "cd /content/metis-5.1.0/build/Linux-x86_64/libmetis && /usr/bin/cc -Dmetis_EXPORTS -I/content/metis-5.1.0/GKlib -I/content/metis-5.1.0/include -I/content/metis-5.1.0/libmetis/. -DLINUX -D_FILE_OFFSET_BITS=64 -std=c99 -fno-strict-aliasing -fPIC -Wall -pedantic -Wno-unused-but-set-variable -Wno-unused-variable -Wno-unknown-pragmas -DNDEBUG -DNDEBUG2 -DHAVE_EXECINFO_H -DHAVE_GETLINE -O3 -fPIC -MD -MT libmetis/CMakeFiles/metis.dir/mcutil.c.o -MF CMakeFiles/metis.dir/mcutil.c.o.d -o CMakeFiles/metis.dir/mcutil.c.o -c /content/metis-5.1.0/libmetis/mcutil.c\n",
            "[ 51%] \u001b[32mBuilding C object libmetis/CMakeFiles/metis.dir/mesh.c.o\u001b[0m\n",
            "cd /content/metis-5.1.0/build/Linux-x86_64/libmetis && /usr/bin/cc -Dmetis_EXPORTS -I/content/metis-5.1.0/GKlib -I/content/metis-5.1.0/include -I/content/metis-5.1.0/libmetis/. -DLINUX -D_FILE_OFFSET_BITS=64 -std=c99 -fno-strict-aliasing -fPIC -Wall -pedantic -Wno-unused-but-set-variable -Wno-unused-variable -Wno-unknown-pragmas -DNDEBUG -DNDEBUG2 -DHAVE_EXECINFO_H -DHAVE_GETLINE -O3 -fPIC -MD -MT libmetis/CMakeFiles/metis.dir/mesh.c.o -MF CMakeFiles/metis.dir/mesh.c.o.d -o CMakeFiles/metis.dir/mesh.c.o -c /content/metis-5.1.0/libmetis/mesh.c\n",
            "[ 52%] \u001b[32mBuilding C object libmetis/CMakeFiles/metis.dir/meshpart.c.o\u001b[0m\n",
            "cd /content/metis-5.1.0/build/Linux-x86_64/libmetis && /usr/bin/cc -Dmetis_EXPORTS -I/content/metis-5.1.0/GKlib -I/content/metis-5.1.0/include -I/content/metis-5.1.0/libmetis/. -DLINUX -D_FILE_OFFSET_BITS=64 -std=c99 -fno-strict-aliasing -fPIC -Wall -pedantic -Wno-unused-but-set-variable -Wno-unused-variable -Wno-unknown-pragmas -DNDEBUG -DNDEBUG2 -DHAVE_EXECINFO_H -DHAVE_GETLINE -O3 -fPIC -MD -MT libmetis/CMakeFiles/metis.dir/meshpart.c.o -MF CMakeFiles/metis.dir/meshpart.c.o.d -o CMakeFiles/metis.dir/meshpart.c.o -c /content/metis-5.1.0/libmetis/meshpart.c\n",
            "[ 53%] \u001b[32mBuilding C object libmetis/CMakeFiles/metis.dir/minconn.c.o\u001b[0m\n",
            "cd /content/metis-5.1.0/build/Linux-x86_64/libmetis && /usr/bin/cc -Dmetis_EXPORTS -I/content/metis-5.1.0/GKlib -I/content/metis-5.1.0/include -I/content/metis-5.1.0/libmetis/. -DLINUX -D_FILE_OFFSET_BITS=64 -std=c99 -fno-strict-aliasing -fPIC -Wall -pedantic -Wno-unused-but-set-variable -Wno-unused-variable -Wno-unknown-pragmas -DNDEBUG -DNDEBUG2 -DHAVE_EXECINFO_H -DHAVE_GETLINE -O3 -fPIC -MD -MT libmetis/CMakeFiles/metis.dir/minconn.c.o -MF CMakeFiles/metis.dir/minconn.c.o.d -o CMakeFiles/metis.dir/minconn.c.o -c /content/metis-5.1.0/libmetis/minconn.c\n",
            "[ 54%] \u001b[32mBuilding C object libmetis/CMakeFiles/metis.dir/mincover.c.o\u001b[0m\n",
            "cd /content/metis-5.1.0/build/Linux-x86_64/libmetis && /usr/bin/cc -Dmetis_EXPORTS -I/content/metis-5.1.0/GKlib -I/content/metis-5.1.0/include -I/content/metis-5.1.0/libmetis/. -DLINUX -D_FILE_OFFSET_BITS=64 -std=c99 -fno-strict-aliasing -fPIC -Wall -pedantic -Wno-unused-but-set-variable -Wno-unused-variable -Wno-unknown-pragmas -DNDEBUG -DNDEBUG2 -DHAVE_EXECINFO_H -DHAVE_GETLINE -O3 -fPIC -MD -MT libmetis/CMakeFiles/metis.dir/mincover.c.o -MF CMakeFiles/metis.dir/mincover.c.o.d -o CMakeFiles/metis.dir/mincover.c.o -c /content/metis-5.1.0/libmetis/mincover.c\n",
            "[ 55%] \u001b[32mBuilding C object libmetis/CMakeFiles/metis.dir/mmd.c.o\u001b[0m\n",
            "cd /content/metis-5.1.0/build/Linux-x86_64/libmetis && /usr/bin/cc -Dmetis_EXPORTS -I/content/metis-5.1.0/GKlib -I/content/metis-5.1.0/include -I/content/metis-5.1.0/libmetis/. -DLINUX -D_FILE_OFFSET_BITS=64 -std=c99 -fno-strict-aliasing -fPIC -Wall -pedantic -Wno-unused-but-set-variable -Wno-unused-variable -Wno-unknown-pragmas -DNDEBUG -DNDEBUG2 -DHAVE_EXECINFO_H -DHAVE_GETLINE -O3 -fPIC -MD -MT libmetis/CMakeFiles/metis.dir/mmd.c.o -MF CMakeFiles/metis.dir/mmd.c.o.d -o CMakeFiles/metis.dir/mmd.c.o -c /content/metis-5.1.0/libmetis/mmd.c\n",
            "[ 56%] \u001b[32mBuilding C object libmetis/CMakeFiles/metis.dir/ometis.c.o\u001b[0m\n",
            "cd /content/metis-5.1.0/build/Linux-x86_64/libmetis && /usr/bin/cc -Dmetis_EXPORTS -I/content/metis-5.1.0/GKlib -I/content/metis-5.1.0/include -I/content/metis-5.1.0/libmetis/. -DLINUX -D_FILE_OFFSET_BITS=64 -std=c99 -fno-strict-aliasing -fPIC -Wall -pedantic -Wno-unused-but-set-variable -Wno-unused-variable -Wno-unknown-pragmas -DNDEBUG -DNDEBUG2 -DHAVE_EXECINFO_H -DHAVE_GETLINE -O3 -fPIC -MD -MT libmetis/CMakeFiles/metis.dir/ometis.c.o -MF CMakeFiles/metis.dir/ometis.c.o.d -o CMakeFiles/metis.dir/ometis.c.o -c /content/metis-5.1.0/libmetis/ometis.c\n",
            "[ 57%] \u001b[32mBuilding C object libmetis/CMakeFiles/metis.dir/options.c.o\u001b[0m\n",
            "cd /content/metis-5.1.0/build/Linux-x86_64/libmetis && /usr/bin/cc -Dmetis_EXPORTS -I/content/metis-5.1.0/GKlib -I/content/metis-5.1.0/include -I/content/metis-5.1.0/libmetis/. -DLINUX -D_FILE_OFFSET_BITS=64 -std=c99 -fno-strict-aliasing -fPIC -Wall -pedantic -Wno-unused-but-set-variable -Wno-unused-variable -Wno-unknown-pragmas -DNDEBUG -DNDEBUG2 -DHAVE_EXECINFO_H -DHAVE_GETLINE -O3 -fPIC -MD -MT libmetis/CMakeFiles/metis.dir/options.c.o -MF CMakeFiles/metis.dir/options.c.o.d -o CMakeFiles/metis.dir/options.c.o -c /content/metis-5.1.0/libmetis/options.c\n",
            "[ 59%] \u001b[32mBuilding C object libmetis/CMakeFiles/metis.dir/parmetis.c.o\u001b[0m\n",
            "cd /content/metis-5.1.0/build/Linux-x86_64/libmetis && /usr/bin/cc -Dmetis_EXPORTS -I/content/metis-5.1.0/GKlib -I/content/metis-5.1.0/include -I/content/metis-5.1.0/libmetis/. -DLINUX -D_FILE_OFFSET_BITS=64 -std=c99 -fno-strict-aliasing -fPIC -Wall -pedantic -Wno-unused-but-set-variable -Wno-unused-variable -Wno-unknown-pragmas -DNDEBUG -DNDEBUG2 -DHAVE_EXECINFO_H -DHAVE_GETLINE -O3 -fPIC -MD -MT libmetis/CMakeFiles/metis.dir/parmetis.c.o -MF CMakeFiles/metis.dir/parmetis.c.o.d -o CMakeFiles/metis.dir/parmetis.c.o -c /content/metis-5.1.0/libmetis/parmetis.c\n",
            "[ 60%] \u001b[32mBuilding C object libmetis/CMakeFiles/metis.dir/pmetis.c.o\u001b[0m\n",
            "cd /content/metis-5.1.0/build/Linux-x86_64/libmetis && /usr/bin/cc -Dmetis_EXPORTS -I/content/metis-5.1.0/GKlib -I/content/metis-5.1.0/include -I/content/metis-5.1.0/libmetis/. -DLINUX -D_FILE_OFFSET_BITS=64 -std=c99 -fno-strict-aliasing -fPIC -Wall -pedantic -Wno-unused-but-set-variable -Wno-unused-variable -Wno-unknown-pragmas -DNDEBUG -DNDEBUG2 -DHAVE_EXECINFO_H -DHAVE_GETLINE -O3 -fPIC -MD -MT libmetis/CMakeFiles/metis.dir/pmetis.c.o -MF CMakeFiles/metis.dir/pmetis.c.o.d -o CMakeFiles/metis.dir/pmetis.c.o -c /content/metis-5.1.0/libmetis/pmetis.c\n",
            "[ 61%] \u001b[32mBuilding C object libmetis/CMakeFiles/metis.dir/refine.c.o\u001b[0m\n",
            "cd /content/metis-5.1.0/build/Linux-x86_64/libmetis && /usr/bin/cc -Dmetis_EXPORTS -I/content/metis-5.1.0/GKlib -I/content/metis-5.1.0/include -I/content/metis-5.1.0/libmetis/. -DLINUX -D_FILE_OFFSET_BITS=64 -std=c99 -fno-strict-aliasing -fPIC -Wall -pedantic -Wno-unused-but-set-variable -Wno-unused-variable -Wno-unknown-pragmas -DNDEBUG -DNDEBUG2 -DHAVE_EXECINFO_H -DHAVE_GETLINE -O3 -fPIC -MD -MT libmetis/CMakeFiles/metis.dir/refine.c.o -MF CMakeFiles/metis.dir/refine.c.o.d -o CMakeFiles/metis.dir/refine.c.o -c /content/metis-5.1.0/libmetis/refine.c\n",
            "[ 62%] \u001b[32mBuilding C object libmetis/CMakeFiles/metis.dir/separator.c.o\u001b[0m\n",
            "cd /content/metis-5.1.0/build/Linux-x86_64/libmetis && /usr/bin/cc -Dmetis_EXPORTS -I/content/metis-5.1.0/GKlib -I/content/metis-5.1.0/include -I/content/metis-5.1.0/libmetis/. -DLINUX -D_FILE_OFFSET_BITS=64 -std=c99 -fno-strict-aliasing -fPIC -Wall -pedantic -Wno-unused-but-set-variable -Wno-unused-variable -Wno-unknown-pragmas -DNDEBUG -DNDEBUG2 -DHAVE_EXECINFO_H -DHAVE_GETLINE -O3 -fPIC -MD -MT libmetis/CMakeFiles/metis.dir/separator.c.o -MF CMakeFiles/metis.dir/separator.c.o.d -o CMakeFiles/metis.dir/separator.c.o -c /content/metis-5.1.0/libmetis/separator.c\n",
            "[ 63%] \u001b[32mBuilding C object libmetis/CMakeFiles/metis.dir/sfm.c.o\u001b[0m\n",
            "cd /content/metis-5.1.0/build/Linux-x86_64/libmetis && /usr/bin/cc -Dmetis_EXPORTS -I/content/metis-5.1.0/GKlib -I/content/metis-5.1.0/include -I/content/metis-5.1.0/libmetis/. -DLINUX -D_FILE_OFFSET_BITS=64 -std=c99 -fno-strict-aliasing -fPIC -Wall -pedantic -Wno-unused-but-set-variable -Wno-unused-variable -Wno-unknown-pragmas -DNDEBUG -DNDEBUG2 -DHAVE_EXECINFO_H -DHAVE_GETLINE -O3 -fPIC -MD -MT libmetis/CMakeFiles/metis.dir/sfm.c.o -MF CMakeFiles/metis.dir/sfm.c.o.d -o CMakeFiles/metis.dir/sfm.c.o -c /content/metis-5.1.0/libmetis/sfm.c\n",
            "[ 64%] \u001b[32mBuilding C object libmetis/CMakeFiles/metis.dir/srefine.c.o\u001b[0m\n",
            "cd /content/metis-5.1.0/build/Linux-x86_64/libmetis && /usr/bin/cc -Dmetis_EXPORTS -I/content/metis-5.1.0/GKlib -I/content/metis-5.1.0/include -I/content/metis-5.1.0/libmetis/. -DLINUX -D_FILE_OFFSET_BITS=64 -std=c99 -fno-strict-aliasing -fPIC -Wall -pedantic -Wno-unused-but-set-variable -Wno-unused-variable -Wno-unknown-pragmas -DNDEBUG -DNDEBUG2 -DHAVE_EXECINFO_H -DHAVE_GETLINE -O3 -fPIC -MD -MT libmetis/CMakeFiles/metis.dir/srefine.c.o -MF CMakeFiles/metis.dir/srefine.c.o.d -o CMakeFiles/metis.dir/srefine.c.o -c /content/metis-5.1.0/libmetis/srefine.c\n",
            "[ 65%] \u001b[32mBuilding C object libmetis/CMakeFiles/metis.dir/stat.c.o\u001b[0m\n",
            "cd /content/metis-5.1.0/build/Linux-x86_64/libmetis && /usr/bin/cc -Dmetis_EXPORTS -I/content/metis-5.1.0/GKlib -I/content/metis-5.1.0/include -I/content/metis-5.1.0/libmetis/. -DLINUX -D_FILE_OFFSET_BITS=64 -std=c99 -fno-strict-aliasing -fPIC -Wall -pedantic -Wno-unused-but-set-variable -Wno-unused-variable -Wno-unknown-pragmas -DNDEBUG -DNDEBUG2 -DHAVE_EXECINFO_H -DHAVE_GETLINE -O3 -fPIC -MD -MT libmetis/CMakeFiles/metis.dir/stat.c.o -MF CMakeFiles/metis.dir/stat.c.o.d -o CMakeFiles/metis.dir/stat.c.o -c /content/metis-5.1.0/libmetis/stat.c\n",
            "[ 67%] \u001b[32mBuilding C object libmetis/CMakeFiles/metis.dir/timing.c.o\u001b[0m\n",
            "cd /content/metis-5.1.0/build/Linux-x86_64/libmetis && /usr/bin/cc -Dmetis_EXPORTS -I/content/metis-5.1.0/GKlib -I/content/metis-5.1.0/include -I/content/metis-5.1.0/libmetis/. -DLINUX -D_FILE_OFFSET_BITS=64 -std=c99 -fno-strict-aliasing -fPIC -Wall -pedantic -Wno-unused-but-set-variable -Wno-unused-variable -Wno-unknown-pragmas -DNDEBUG -DNDEBUG2 -DHAVE_EXECINFO_H -DHAVE_GETLINE -O3 -fPIC -MD -MT libmetis/CMakeFiles/metis.dir/timing.c.o -MF CMakeFiles/metis.dir/timing.c.o.d -o CMakeFiles/metis.dir/timing.c.o -c /content/metis-5.1.0/libmetis/timing.c\n",
            "[ 68%] \u001b[32mBuilding C object libmetis/CMakeFiles/metis.dir/util.c.o\u001b[0m\n",
            "cd /content/metis-5.1.0/build/Linux-x86_64/libmetis && /usr/bin/cc -Dmetis_EXPORTS -I/content/metis-5.1.0/GKlib -I/content/metis-5.1.0/include -I/content/metis-5.1.0/libmetis/. -DLINUX -D_FILE_OFFSET_BITS=64 -std=c99 -fno-strict-aliasing -fPIC -Wall -pedantic -Wno-unused-but-set-variable -Wno-unused-variable -Wno-unknown-pragmas -DNDEBUG -DNDEBUG2 -DHAVE_EXECINFO_H -DHAVE_GETLINE -O3 -fPIC -MD -MT libmetis/CMakeFiles/metis.dir/util.c.o -MF CMakeFiles/metis.dir/util.c.o.d -o CMakeFiles/metis.dir/util.c.o -c /content/metis-5.1.0/libmetis/util.c\n",
            "[ 69%] \u001b[32mBuilding C object libmetis/CMakeFiles/metis.dir/wspace.c.o\u001b[0m\n",
            "cd /content/metis-5.1.0/build/Linux-x86_64/libmetis && /usr/bin/cc -Dmetis_EXPORTS -I/content/metis-5.1.0/GKlib -I/content/metis-5.1.0/include -I/content/metis-5.1.0/libmetis/. -DLINUX -D_FILE_OFFSET_BITS=64 -std=c99 -fno-strict-aliasing -fPIC -Wall -pedantic -Wno-unused-but-set-variable -Wno-unused-variable -Wno-unknown-pragmas -DNDEBUG -DNDEBUG2 -DHAVE_EXECINFO_H -DHAVE_GETLINE -O3 -fPIC -MD -MT libmetis/CMakeFiles/metis.dir/wspace.c.o -MF CMakeFiles/metis.dir/wspace.c.o.d -o CMakeFiles/metis.dir/wspace.c.o -c /content/metis-5.1.0/libmetis/wspace.c\n",
            "[ 70%] \u001b[32m\u001b[1mLinking C shared library libmetis.so\u001b[0m\n",
            "cd /content/metis-5.1.0/build/Linux-x86_64/libmetis && /usr/local/lib/python3.10/dist-packages/cmake/data/bin/cmake -E cmake_link_script CMakeFiles/metis.dir/link.txt --verbose=1\n",
            "/usr/bin/cc -fPIC  -DLINUX -D_FILE_OFFSET_BITS=64 -std=c99 -fno-strict-aliasing -fPIC -Wall -pedantic -Wno-unused-but-set-variable -Wno-unused-variable -Wno-unknown-pragmas -DNDEBUG -DNDEBUG2 -DHAVE_EXECINFO_H -DHAVE_GETLINE -O3 -shared -Wl,-soname,libmetis.so -o libmetis.so CMakeFiles/metis.dir/__/GKlib/b64.c.o CMakeFiles/metis.dir/__/GKlib/blas.c.o CMakeFiles/metis.dir/__/GKlib/csr.c.o CMakeFiles/metis.dir/__/GKlib/error.c.o CMakeFiles/metis.dir/__/GKlib/evaluate.c.o CMakeFiles/metis.dir/__/GKlib/fkvkselect.c.o CMakeFiles/metis.dir/__/GKlib/fs.c.o CMakeFiles/metis.dir/__/GKlib/getopt.c.o CMakeFiles/metis.dir/__/GKlib/gkregex.c.o CMakeFiles/metis.dir/__/GKlib/graph.c.o CMakeFiles/metis.dir/__/GKlib/htable.c.o CMakeFiles/metis.dir/__/GKlib/io.c.o CMakeFiles/metis.dir/__/GKlib/itemsets.c.o CMakeFiles/metis.dir/__/GKlib/mcore.c.o CMakeFiles/metis.dir/__/GKlib/memory.c.o CMakeFiles/metis.dir/__/GKlib/omp.c.o CMakeFiles/metis.dir/__/GKlib/pdb.c.o CMakeFiles/metis.dir/__/GKlib/pqueue.c.o CMakeFiles/metis.dir/__/GKlib/random.c.o CMakeFiles/metis.dir/__/GKlib/rw.c.o CMakeFiles/metis.dir/__/GKlib/seq.c.o CMakeFiles/metis.dir/__/GKlib/sort.c.o CMakeFiles/metis.dir/__/GKlib/string.c.o CMakeFiles/metis.dir/__/GKlib/timers.c.o CMakeFiles/metis.dir/__/GKlib/tokenizer.c.o CMakeFiles/metis.dir/__/GKlib/util.c.o CMakeFiles/metis.dir/auxapi.c.o CMakeFiles/metis.dir/balance.c.o CMakeFiles/metis.dir/bucketsort.c.o CMakeFiles/metis.dir/checkgraph.c.o CMakeFiles/metis.dir/coarsen.c.o CMakeFiles/metis.dir/compress.c.o CMakeFiles/metis.dir/contig.c.o CMakeFiles/metis.dir/debug.c.o CMakeFiles/metis.dir/fm.c.o CMakeFiles/metis.dir/fortran.c.o CMakeFiles/metis.dir/frename.c.o CMakeFiles/metis.dir/gklib.c.o CMakeFiles/metis.dir/graph.c.o CMakeFiles/metis.dir/initpart.c.o CMakeFiles/metis.dir/kmetis.c.o CMakeFiles/metis.dir/kwayfm.c.o CMakeFiles/metis.dir/kwayrefine.c.o CMakeFiles/metis.dir/mcutil.c.o CMakeFiles/metis.dir/mesh.c.o CMakeFiles/metis.dir/meshpart.c.o CMakeFiles/metis.dir/minconn.c.o CMakeFiles/metis.dir/mincover.c.o CMakeFiles/metis.dir/mmd.c.o CMakeFiles/metis.dir/ometis.c.o CMakeFiles/metis.dir/options.c.o CMakeFiles/metis.dir/parmetis.c.o CMakeFiles/metis.dir/pmetis.c.o CMakeFiles/metis.dir/refine.c.o CMakeFiles/metis.dir/separator.c.o CMakeFiles/metis.dir/sfm.c.o CMakeFiles/metis.dir/srefine.c.o CMakeFiles/metis.dir/stat.c.o CMakeFiles/metis.dir/timing.c.o CMakeFiles/metis.dir/util.c.o CMakeFiles/metis.dir/wspace.c.o  -lm \n",
            "make[3]: Leaving directory '/content/metis-5.1.0/build/Linux-x86_64'\n",
            "[ 70%] Built target metis\n",
            "make  -f programs/CMakeFiles/gpmetis.dir/build.make programs/CMakeFiles/gpmetis.dir/depend\n",
            "make[3]: Entering directory '/content/metis-5.1.0/build/Linux-x86_64'\n",
            "cd /content/metis-5.1.0/build/Linux-x86_64 && /usr/local/lib/python3.10/dist-packages/cmake/data/bin/cmake -E cmake_depends \"Unix Makefiles\" /content/metis-5.1.0 /content/metis-5.1.0/programs /content/metis-5.1.0/build/Linux-x86_64 /content/metis-5.1.0/build/Linux-x86_64/programs /content/metis-5.1.0/build/Linux-x86_64/programs/CMakeFiles/gpmetis.dir/DependInfo.cmake \"--color=\"\n",
            "make[3]: Leaving directory '/content/metis-5.1.0/build/Linux-x86_64'\n",
            "make  -f programs/CMakeFiles/gpmetis.dir/build.make programs/CMakeFiles/gpmetis.dir/build\n",
            "make[3]: Entering directory '/content/metis-5.1.0/build/Linux-x86_64'\n",
            "[ 71%] \u001b[32mBuilding C object programs/CMakeFiles/gpmetis.dir/gpmetis.c.o\u001b[0m\n",
            "cd /content/metis-5.1.0/build/Linux-x86_64/programs && /usr/bin/cc -DSVNINFO=\\\"\\\" -I/content/metis-5.1.0/GKlib -I/content/metis-5.1.0/include -I/content/metis-5.1.0/programs/../libmetis -DLINUX -D_FILE_OFFSET_BITS=64 -std=c99 -fno-strict-aliasing -fPIC -Wall -pedantic -Wno-unused-but-set-variable -Wno-unused-variable -Wno-unknown-pragmas -DNDEBUG -DNDEBUG2 -DHAVE_EXECINFO_H -DHAVE_GETLINE -O3 -MD -MT programs/CMakeFiles/gpmetis.dir/gpmetis.c.o -MF CMakeFiles/gpmetis.dir/gpmetis.c.o.d -o CMakeFiles/gpmetis.dir/gpmetis.c.o -c /content/metis-5.1.0/programs/gpmetis.c\n",
            "[ 72%] \u001b[32mBuilding C object programs/CMakeFiles/gpmetis.dir/cmdline_gpmetis.c.o\u001b[0m\n",
            "cd /content/metis-5.1.0/build/Linux-x86_64/programs && /usr/bin/cc -DSVNINFO=\\\"\\\" -I/content/metis-5.1.0/GKlib -I/content/metis-5.1.0/include -I/content/metis-5.1.0/programs/../libmetis -DLINUX -D_FILE_OFFSET_BITS=64 -std=c99 -fno-strict-aliasing -fPIC -Wall -pedantic -Wno-unused-but-set-variable -Wno-unused-variable -Wno-unknown-pragmas -DNDEBUG -DNDEBUG2 -DHAVE_EXECINFO_H -DHAVE_GETLINE -O3 -MD -MT programs/CMakeFiles/gpmetis.dir/cmdline_gpmetis.c.o -MF CMakeFiles/gpmetis.dir/cmdline_gpmetis.c.o.d -o CMakeFiles/gpmetis.dir/cmdline_gpmetis.c.o -c /content/metis-5.1.0/programs/cmdline_gpmetis.c\n",
            "[ 73%] \u001b[32mBuilding C object programs/CMakeFiles/gpmetis.dir/io.c.o\u001b[0m\n",
            "cd /content/metis-5.1.0/build/Linux-x86_64/programs && /usr/bin/cc -DSVNINFO=\\\"\\\" -I/content/metis-5.1.0/GKlib -I/content/metis-5.1.0/include -I/content/metis-5.1.0/programs/../libmetis -DLINUX -D_FILE_OFFSET_BITS=64 -std=c99 -fno-strict-aliasing -fPIC -Wall -pedantic -Wno-unused-but-set-variable -Wno-unused-variable -Wno-unknown-pragmas -DNDEBUG -DNDEBUG2 -DHAVE_EXECINFO_H -DHAVE_GETLINE -O3 -MD -MT programs/CMakeFiles/gpmetis.dir/io.c.o -MF CMakeFiles/gpmetis.dir/io.c.o.d -o CMakeFiles/gpmetis.dir/io.c.o -c /content/metis-5.1.0/programs/io.c\n",
            "[ 75%] \u001b[32mBuilding C object programs/CMakeFiles/gpmetis.dir/stat.c.o\u001b[0m\n",
            "cd /content/metis-5.1.0/build/Linux-x86_64/programs && /usr/bin/cc -DSVNINFO=\\\"\\\" -I/content/metis-5.1.0/GKlib -I/content/metis-5.1.0/include -I/content/metis-5.1.0/programs/../libmetis -DLINUX -D_FILE_OFFSET_BITS=64 -std=c99 -fno-strict-aliasing -fPIC -Wall -pedantic -Wno-unused-but-set-variable -Wno-unused-variable -Wno-unknown-pragmas -DNDEBUG -DNDEBUG2 -DHAVE_EXECINFO_H -DHAVE_GETLINE -O3 -MD -MT programs/CMakeFiles/gpmetis.dir/stat.c.o -MF CMakeFiles/gpmetis.dir/stat.c.o.d -o CMakeFiles/gpmetis.dir/stat.c.o -c /content/metis-5.1.0/programs/stat.c\n",
            "[ 76%] \u001b[32m\u001b[1mLinking C executable gpmetis\u001b[0m\n",
            "cd /content/metis-5.1.0/build/Linux-x86_64/programs && /usr/local/lib/python3.10/dist-packages/cmake/data/bin/cmake -E cmake_link_script CMakeFiles/gpmetis.dir/link.txt --verbose=1\n",
            "/usr/bin/cc  -DLINUX -D_FILE_OFFSET_BITS=64 -std=c99 -fno-strict-aliasing -fPIC -Wall -pedantic -Wno-unused-but-set-variable -Wno-unused-variable -Wno-unknown-pragmas -DNDEBUG -DNDEBUG2 -DHAVE_EXECINFO_H -DHAVE_GETLINE -O3 -rdynamic CMakeFiles/gpmetis.dir/gpmetis.c.o CMakeFiles/gpmetis.dir/cmdline_gpmetis.c.o CMakeFiles/gpmetis.dir/io.c.o CMakeFiles/gpmetis.dir/stat.c.o -o gpmetis   -L/home/karypis/local/lib  -Wl,-rpath,/home/karypis/local/lib:/content/metis-5.1.0/build/Linux-x86_64/libmetis: ../libmetis/libmetis.so -lm \n",
            "make[3]: Leaving directory '/content/metis-5.1.0/build/Linux-x86_64'\n",
            "[ 76%] Built target gpmetis\n",
            "make  -f programs/CMakeFiles/ndmetis.dir/build.make programs/CMakeFiles/ndmetis.dir/depend\n",
            "make[3]: Entering directory '/content/metis-5.1.0/build/Linux-x86_64'\n",
            "cd /content/metis-5.1.0/build/Linux-x86_64 && /usr/local/lib/python3.10/dist-packages/cmake/data/bin/cmake -E cmake_depends \"Unix Makefiles\" /content/metis-5.1.0 /content/metis-5.1.0/programs /content/metis-5.1.0/build/Linux-x86_64 /content/metis-5.1.0/build/Linux-x86_64/programs /content/metis-5.1.0/build/Linux-x86_64/programs/CMakeFiles/ndmetis.dir/DependInfo.cmake \"--color=\"\n",
            "make[3]: Leaving directory '/content/metis-5.1.0/build/Linux-x86_64'\n",
            "make  -f programs/CMakeFiles/ndmetis.dir/build.make programs/CMakeFiles/ndmetis.dir/build\n",
            "make[3]: Entering directory '/content/metis-5.1.0/build/Linux-x86_64'\n",
            "[ 77%] \u001b[32mBuilding C object programs/CMakeFiles/ndmetis.dir/ndmetis.c.o\u001b[0m\n",
            "cd /content/metis-5.1.0/build/Linux-x86_64/programs && /usr/bin/cc -DSVNINFO=\\\"\\\" -I/content/metis-5.1.0/GKlib -I/content/metis-5.1.0/include -I/content/metis-5.1.0/programs/../libmetis -DLINUX -D_FILE_OFFSET_BITS=64 -std=c99 -fno-strict-aliasing -fPIC -Wall -pedantic -Wno-unused-but-set-variable -Wno-unused-variable -Wno-unknown-pragmas -DNDEBUG -DNDEBUG2 -DHAVE_EXECINFO_H -DHAVE_GETLINE -O3 -MD -MT programs/CMakeFiles/ndmetis.dir/ndmetis.c.o -MF CMakeFiles/ndmetis.dir/ndmetis.c.o.d -o CMakeFiles/ndmetis.dir/ndmetis.c.o -c /content/metis-5.1.0/programs/ndmetis.c\n",
            "[ 78%] \u001b[32mBuilding C object programs/CMakeFiles/ndmetis.dir/cmdline_ndmetis.c.o\u001b[0m\n",
            "cd /content/metis-5.1.0/build/Linux-x86_64/programs && /usr/bin/cc -DSVNINFO=\\\"\\\" -I/content/metis-5.1.0/GKlib -I/content/metis-5.1.0/include -I/content/metis-5.1.0/programs/../libmetis -DLINUX -D_FILE_OFFSET_BITS=64 -std=c99 -fno-strict-aliasing -fPIC -Wall -pedantic -Wno-unused-but-set-variable -Wno-unused-variable -Wno-unknown-pragmas -DNDEBUG -DNDEBUG2 -DHAVE_EXECINFO_H -DHAVE_GETLINE -O3 -MD -MT programs/CMakeFiles/ndmetis.dir/cmdline_ndmetis.c.o -MF CMakeFiles/ndmetis.dir/cmdline_ndmetis.c.o.d -o CMakeFiles/ndmetis.dir/cmdline_ndmetis.c.o -c /content/metis-5.1.0/programs/cmdline_ndmetis.c\n",
            "[ 79%] \u001b[32mBuilding C object programs/CMakeFiles/ndmetis.dir/io.c.o\u001b[0m\n",
            "cd /content/metis-5.1.0/build/Linux-x86_64/programs && /usr/bin/cc -DSVNINFO=\\\"\\\" -I/content/metis-5.1.0/GKlib -I/content/metis-5.1.0/include -I/content/metis-5.1.0/programs/../libmetis -DLINUX -D_FILE_OFFSET_BITS=64 -std=c99 -fno-strict-aliasing -fPIC -Wall -pedantic -Wno-unused-but-set-variable -Wno-unused-variable -Wno-unknown-pragmas -DNDEBUG -DNDEBUG2 -DHAVE_EXECINFO_H -DHAVE_GETLINE -O3 -MD -MT programs/CMakeFiles/ndmetis.dir/io.c.o -MF CMakeFiles/ndmetis.dir/io.c.o.d -o CMakeFiles/ndmetis.dir/io.c.o -c /content/metis-5.1.0/programs/io.c\n",
            "[ 80%] \u001b[32mBuilding C object programs/CMakeFiles/ndmetis.dir/smbfactor.c.o\u001b[0m\n",
            "cd /content/metis-5.1.0/build/Linux-x86_64/programs && /usr/bin/cc -DSVNINFO=\\\"\\\" -I/content/metis-5.1.0/GKlib -I/content/metis-5.1.0/include -I/content/metis-5.1.0/programs/../libmetis -DLINUX -D_FILE_OFFSET_BITS=64 -std=c99 -fno-strict-aliasing -fPIC -Wall -pedantic -Wno-unused-but-set-variable -Wno-unused-variable -Wno-unknown-pragmas -DNDEBUG -DNDEBUG2 -DHAVE_EXECINFO_H -DHAVE_GETLINE -O3 -MD -MT programs/CMakeFiles/ndmetis.dir/smbfactor.c.o -MF CMakeFiles/ndmetis.dir/smbfactor.c.o.d -o CMakeFiles/ndmetis.dir/smbfactor.c.o -c /content/metis-5.1.0/programs/smbfactor.c\n",
            "[ 81%] \u001b[32m\u001b[1mLinking C executable ndmetis\u001b[0m\n",
            "cd /content/metis-5.1.0/build/Linux-x86_64/programs && /usr/local/lib/python3.10/dist-packages/cmake/data/bin/cmake -E cmake_link_script CMakeFiles/ndmetis.dir/link.txt --verbose=1\n",
            "/usr/bin/cc  -DLINUX -D_FILE_OFFSET_BITS=64 -std=c99 -fno-strict-aliasing -fPIC -Wall -pedantic -Wno-unused-but-set-variable -Wno-unused-variable -Wno-unknown-pragmas -DNDEBUG -DNDEBUG2 -DHAVE_EXECINFO_H -DHAVE_GETLINE -O3 -rdynamic CMakeFiles/ndmetis.dir/ndmetis.c.o CMakeFiles/ndmetis.dir/cmdline_ndmetis.c.o CMakeFiles/ndmetis.dir/io.c.o CMakeFiles/ndmetis.dir/smbfactor.c.o -o ndmetis   -L/home/karypis/local/lib  -Wl,-rpath,/home/karypis/local/lib:/content/metis-5.1.0/build/Linux-x86_64/libmetis: ../libmetis/libmetis.so -lm \n",
            "make[3]: Leaving directory '/content/metis-5.1.0/build/Linux-x86_64'\n",
            "[ 81%] Built target ndmetis\n",
            "make  -f programs/CMakeFiles/mpmetis.dir/build.make programs/CMakeFiles/mpmetis.dir/depend\n",
            "make[3]: Entering directory '/content/metis-5.1.0/build/Linux-x86_64'\n",
            "cd /content/metis-5.1.0/build/Linux-x86_64 && /usr/local/lib/python3.10/dist-packages/cmake/data/bin/cmake -E cmake_depends \"Unix Makefiles\" /content/metis-5.1.0 /content/metis-5.1.0/programs /content/metis-5.1.0/build/Linux-x86_64 /content/metis-5.1.0/build/Linux-x86_64/programs /content/metis-5.1.0/build/Linux-x86_64/programs/CMakeFiles/mpmetis.dir/DependInfo.cmake \"--color=\"\n",
            "make[3]: Leaving directory '/content/metis-5.1.0/build/Linux-x86_64'\n",
            "make  -f programs/CMakeFiles/mpmetis.dir/build.make programs/CMakeFiles/mpmetis.dir/build\n",
            "make[3]: Entering directory '/content/metis-5.1.0/build/Linux-x86_64'\n",
            "[ 82%] \u001b[32mBuilding C object programs/CMakeFiles/mpmetis.dir/mpmetis.c.o\u001b[0m\n",
            "cd /content/metis-5.1.0/build/Linux-x86_64/programs && /usr/bin/cc -DSVNINFO=\\\"\\\" -I/content/metis-5.1.0/GKlib -I/content/metis-5.1.0/include -I/content/metis-5.1.0/programs/../libmetis -DLINUX -D_FILE_OFFSET_BITS=64 -std=c99 -fno-strict-aliasing -fPIC -Wall -pedantic -Wno-unused-but-set-variable -Wno-unused-variable -Wno-unknown-pragmas -DNDEBUG -DNDEBUG2 -DHAVE_EXECINFO_H -DHAVE_GETLINE -O3 -MD -MT programs/CMakeFiles/mpmetis.dir/mpmetis.c.o -MF CMakeFiles/mpmetis.dir/mpmetis.c.o.d -o CMakeFiles/mpmetis.dir/mpmetis.c.o -c /content/metis-5.1.0/programs/mpmetis.c\n",
            "[ 84%] \u001b[32mBuilding C object programs/CMakeFiles/mpmetis.dir/cmdline_mpmetis.c.o\u001b[0m\n",
            "cd /content/metis-5.1.0/build/Linux-x86_64/programs && /usr/bin/cc -DSVNINFO=\\\"\\\" -I/content/metis-5.1.0/GKlib -I/content/metis-5.1.0/include -I/content/metis-5.1.0/programs/../libmetis -DLINUX -D_FILE_OFFSET_BITS=64 -std=c99 -fno-strict-aliasing -fPIC -Wall -pedantic -Wno-unused-but-set-variable -Wno-unused-variable -Wno-unknown-pragmas -DNDEBUG -DNDEBUG2 -DHAVE_EXECINFO_H -DHAVE_GETLINE -O3 -MD -MT programs/CMakeFiles/mpmetis.dir/cmdline_mpmetis.c.o -MF CMakeFiles/mpmetis.dir/cmdline_mpmetis.c.o.d -o CMakeFiles/mpmetis.dir/cmdline_mpmetis.c.o -c /content/metis-5.1.0/programs/cmdline_mpmetis.c\n",
            "[ 85%] \u001b[32mBuilding C object programs/CMakeFiles/mpmetis.dir/io.c.o\u001b[0m\n",
            "cd /content/metis-5.1.0/build/Linux-x86_64/programs && /usr/bin/cc -DSVNINFO=\\\"\\\" -I/content/metis-5.1.0/GKlib -I/content/metis-5.1.0/include -I/content/metis-5.1.0/programs/../libmetis -DLINUX -D_FILE_OFFSET_BITS=64 -std=c99 -fno-strict-aliasing -fPIC -Wall -pedantic -Wno-unused-but-set-variable -Wno-unused-variable -Wno-unknown-pragmas -DNDEBUG -DNDEBUG2 -DHAVE_EXECINFO_H -DHAVE_GETLINE -O3 -MD -MT programs/CMakeFiles/mpmetis.dir/io.c.o -MF CMakeFiles/mpmetis.dir/io.c.o.d -o CMakeFiles/mpmetis.dir/io.c.o -c /content/metis-5.1.0/programs/io.c\n",
            "[ 86%] \u001b[32mBuilding C object programs/CMakeFiles/mpmetis.dir/stat.c.o\u001b[0m\n",
            "cd /content/metis-5.1.0/build/Linux-x86_64/programs && /usr/bin/cc -DSVNINFO=\\\"\\\" -I/content/metis-5.1.0/GKlib -I/content/metis-5.1.0/include -I/content/metis-5.1.0/programs/../libmetis -DLINUX -D_FILE_OFFSET_BITS=64 -std=c99 -fno-strict-aliasing -fPIC -Wall -pedantic -Wno-unused-but-set-variable -Wno-unused-variable -Wno-unknown-pragmas -DNDEBUG -DNDEBUG2 -DHAVE_EXECINFO_H -DHAVE_GETLINE -O3 -MD -MT programs/CMakeFiles/mpmetis.dir/stat.c.o -MF CMakeFiles/mpmetis.dir/stat.c.o.d -o CMakeFiles/mpmetis.dir/stat.c.o -c /content/metis-5.1.0/programs/stat.c\n",
            "[ 87%] \u001b[32m\u001b[1mLinking C executable mpmetis\u001b[0m\n",
            "cd /content/metis-5.1.0/build/Linux-x86_64/programs && /usr/local/lib/python3.10/dist-packages/cmake/data/bin/cmake -E cmake_link_script CMakeFiles/mpmetis.dir/link.txt --verbose=1\n",
            "/usr/bin/cc  -DLINUX -D_FILE_OFFSET_BITS=64 -std=c99 -fno-strict-aliasing -fPIC -Wall -pedantic -Wno-unused-but-set-variable -Wno-unused-variable -Wno-unknown-pragmas -DNDEBUG -DNDEBUG2 -DHAVE_EXECINFO_H -DHAVE_GETLINE -O3 -rdynamic CMakeFiles/mpmetis.dir/mpmetis.c.o CMakeFiles/mpmetis.dir/cmdline_mpmetis.c.o CMakeFiles/mpmetis.dir/io.c.o CMakeFiles/mpmetis.dir/stat.c.o -o mpmetis   -L/home/karypis/local/lib  -Wl,-rpath,/home/karypis/local/lib:/content/metis-5.1.0/build/Linux-x86_64/libmetis: ../libmetis/libmetis.so -lm \n",
            "make[3]: Leaving directory '/content/metis-5.1.0/build/Linux-x86_64'\n",
            "[ 87%] Built target mpmetis\n",
            "make  -f programs/CMakeFiles/m2gmetis.dir/build.make programs/CMakeFiles/m2gmetis.dir/depend\n",
            "make[3]: Entering directory '/content/metis-5.1.0/build/Linux-x86_64'\n",
            "cd /content/metis-5.1.0/build/Linux-x86_64 && /usr/local/lib/python3.10/dist-packages/cmake/data/bin/cmake -E cmake_depends \"Unix Makefiles\" /content/metis-5.1.0 /content/metis-5.1.0/programs /content/metis-5.1.0/build/Linux-x86_64 /content/metis-5.1.0/build/Linux-x86_64/programs /content/metis-5.1.0/build/Linux-x86_64/programs/CMakeFiles/m2gmetis.dir/DependInfo.cmake \"--color=\"\n",
            "make[3]: Leaving directory '/content/metis-5.1.0/build/Linux-x86_64'\n",
            "make  -f programs/CMakeFiles/m2gmetis.dir/build.make programs/CMakeFiles/m2gmetis.dir/build\n",
            "make[3]: Entering directory '/content/metis-5.1.0/build/Linux-x86_64'\n",
            "[ 88%] \u001b[32mBuilding C object programs/CMakeFiles/m2gmetis.dir/m2gmetis.c.o\u001b[0m\n",
            "cd /content/metis-5.1.0/build/Linux-x86_64/programs && /usr/bin/cc -DSVNINFO=\\\"\\\" -I/content/metis-5.1.0/GKlib -I/content/metis-5.1.0/include -I/content/metis-5.1.0/programs/../libmetis -DLINUX -D_FILE_OFFSET_BITS=64 -std=c99 -fno-strict-aliasing -fPIC -Wall -pedantic -Wno-unused-but-set-variable -Wno-unused-variable -Wno-unknown-pragmas -DNDEBUG -DNDEBUG2 -DHAVE_EXECINFO_H -DHAVE_GETLINE -O3 -MD -MT programs/CMakeFiles/m2gmetis.dir/m2gmetis.c.o -MF CMakeFiles/m2gmetis.dir/m2gmetis.c.o.d -o CMakeFiles/m2gmetis.dir/m2gmetis.c.o -c /content/metis-5.1.0/programs/m2gmetis.c\n",
            "[ 89%] \u001b[32mBuilding C object programs/CMakeFiles/m2gmetis.dir/cmdline_m2gmetis.c.o\u001b[0m\n",
            "cd /content/metis-5.1.0/build/Linux-x86_64/programs && /usr/bin/cc -DSVNINFO=\\\"\\\" -I/content/metis-5.1.0/GKlib -I/content/metis-5.1.0/include -I/content/metis-5.1.0/programs/../libmetis -DLINUX -D_FILE_OFFSET_BITS=64 -std=c99 -fno-strict-aliasing -fPIC -Wall -pedantic -Wno-unused-but-set-variable -Wno-unused-variable -Wno-unknown-pragmas -DNDEBUG -DNDEBUG2 -DHAVE_EXECINFO_H -DHAVE_GETLINE -O3 -MD -MT programs/CMakeFiles/m2gmetis.dir/cmdline_m2gmetis.c.o -MF CMakeFiles/m2gmetis.dir/cmdline_m2gmetis.c.o.d -o CMakeFiles/m2gmetis.dir/cmdline_m2gmetis.c.o -c /content/metis-5.1.0/programs/cmdline_m2gmetis.c\n",
            "[ 90%] \u001b[32mBuilding C object programs/CMakeFiles/m2gmetis.dir/io.c.o\u001b[0m\n",
            "cd /content/metis-5.1.0/build/Linux-x86_64/programs && /usr/bin/cc -DSVNINFO=\\\"\\\" -I/content/metis-5.1.0/GKlib -I/content/metis-5.1.0/include -I/content/metis-5.1.0/programs/../libmetis -DLINUX -D_FILE_OFFSET_BITS=64 -std=c99 -fno-strict-aliasing -fPIC -Wall -pedantic -Wno-unused-but-set-variable -Wno-unused-variable -Wno-unknown-pragmas -DNDEBUG -DNDEBUG2 -DHAVE_EXECINFO_H -DHAVE_GETLINE -O3 -MD -MT programs/CMakeFiles/m2gmetis.dir/io.c.o -MF CMakeFiles/m2gmetis.dir/io.c.o.d -o CMakeFiles/m2gmetis.dir/io.c.o -c /content/metis-5.1.0/programs/io.c\n",
            "[ 92%] \u001b[32m\u001b[1mLinking C executable m2gmetis\u001b[0m\n",
            "cd /content/metis-5.1.0/build/Linux-x86_64/programs && /usr/local/lib/python3.10/dist-packages/cmake/data/bin/cmake -E cmake_link_script CMakeFiles/m2gmetis.dir/link.txt --verbose=1\n",
            "/usr/bin/cc  -DLINUX -D_FILE_OFFSET_BITS=64 -std=c99 -fno-strict-aliasing -fPIC -Wall -pedantic -Wno-unused-but-set-variable -Wno-unused-variable -Wno-unknown-pragmas -DNDEBUG -DNDEBUG2 -DHAVE_EXECINFO_H -DHAVE_GETLINE -O3 -rdynamic CMakeFiles/m2gmetis.dir/m2gmetis.c.o CMakeFiles/m2gmetis.dir/cmdline_m2gmetis.c.o CMakeFiles/m2gmetis.dir/io.c.o -o m2gmetis   -L/home/karypis/local/lib  -Wl,-rpath,/home/karypis/local/lib:/content/metis-5.1.0/build/Linux-x86_64/libmetis: ../libmetis/libmetis.so -lm \n",
            "make[3]: Leaving directory '/content/metis-5.1.0/build/Linux-x86_64'\n",
            "[ 92%] Built target m2gmetis\n",
            "make  -f programs/CMakeFiles/graphchk.dir/build.make programs/CMakeFiles/graphchk.dir/depend\n",
            "make[3]: Entering directory '/content/metis-5.1.0/build/Linux-x86_64'\n",
            "cd /content/metis-5.1.0/build/Linux-x86_64 && /usr/local/lib/python3.10/dist-packages/cmake/data/bin/cmake -E cmake_depends \"Unix Makefiles\" /content/metis-5.1.0 /content/metis-5.1.0/programs /content/metis-5.1.0/build/Linux-x86_64 /content/metis-5.1.0/build/Linux-x86_64/programs /content/metis-5.1.0/build/Linux-x86_64/programs/CMakeFiles/graphchk.dir/DependInfo.cmake \"--color=\"\n",
            "make[3]: Leaving directory '/content/metis-5.1.0/build/Linux-x86_64'\n",
            "make  -f programs/CMakeFiles/graphchk.dir/build.make programs/CMakeFiles/graphchk.dir/build\n",
            "make[3]: Entering directory '/content/metis-5.1.0/build/Linux-x86_64'\n",
            "[ 93%] \u001b[32mBuilding C object programs/CMakeFiles/graphchk.dir/graphchk.c.o\u001b[0m\n",
            "cd /content/metis-5.1.0/build/Linux-x86_64/programs && /usr/bin/cc -DSVNINFO=\\\"\\\" -I/content/metis-5.1.0/GKlib -I/content/metis-5.1.0/include -I/content/metis-5.1.0/programs/../libmetis -DLINUX -D_FILE_OFFSET_BITS=64 -std=c99 -fno-strict-aliasing -fPIC -Wall -pedantic -Wno-unused-but-set-variable -Wno-unused-variable -Wno-unknown-pragmas -DNDEBUG -DNDEBUG2 -DHAVE_EXECINFO_H -DHAVE_GETLINE -O3 -MD -MT programs/CMakeFiles/graphchk.dir/graphchk.c.o -MF CMakeFiles/graphchk.dir/graphchk.c.o.d -o CMakeFiles/graphchk.dir/graphchk.c.o -c /content/metis-5.1.0/programs/graphchk.c\n",
            "[ 94%] \u001b[32mBuilding C object programs/CMakeFiles/graphchk.dir/io.c.o\u001b[0m\n",
            "cd /content/metis-5.1.0/build/Linux-x86_64/programs && /usr/bin/cc -DSVNINFO=\\\"\\\" -I/content/metis-5.1.0/GKlib -I/content/metis-5.1.0/include -I/content/metis-5.1.0/programs/../libmetis -DLINUX -D_FILE_OFFSET_BITS=64 -std=c99 -fno-strict-aliasing -fPIC -Wall -pedantic -Wno-unused-but-set-variable -Wno-unused-variable -Wno-unknown-pragmas -DNDEBUG -DNDEBUG2 -DHAVE_EXECINFO_H -DHAVE_GETLINE -O3 -MD -MT programs/CMakeFiles/graphchk.dir/io.c.o -MF CMakeFiles/graphchk.dir/io.c.o.d -o CMakeFiles/graphchk.dir/io.c.o -c /content/metis-5.1.0/programs/io.c\n",
            "[ 95%] \u001b[32m\u001b[1mLinking C executable graphchk\u001b[0m\n",
            "cd /content/metis-5.1.0/build/Linux-x86_64/programs && /usr/local/lib/python3.10/dist-packages/cmake/data/bin/cmake -E cmake_link_script CMakeFiles/graphchk.dir/link.txt --verbose=1\n",
            "/usr/bin/cc  -DLINUX -D_FILE_OFFSET_BITS=64 -std=c99 -fno-strict-aliasing -fPIC -Wall -pedantic -Wno-unused-but-set-variable -Wno-unused-variable -Wno-unknown-pragmas -DNDEBUG -DNDEBUG2 -DHAVE_EXECINFO_H -DHAVE_GETLINE -O3 -rdynamic CMakeFiles/graphchk.dir/graphchk.c.o CMakeFiles/graphchk.dir/io.c.o -o graphchk   -L/home/karypis/local/lib  -Wl,-rpath,/home/karypis/local/lib:/content/metis-5.1.0/build/Linux-x86_64/libmetis: ../libmetis/libmetis.so -lm \n",
            "make[3]: Leaving directory '/content/metis-5.1.0/build/Linux-x86_64'\n",
            "[ 95%] Built target graphchk\n",
            "make  -f programs/CMakeFiles/cmpfillin.dir/build.make programs/CMakeFiles/cmpfillin.dir/depend\n",
            "make[3]: Entering directory '/content/metis-5.1.0/build/Linux-x86_64'\n",
            "cd /content/metis-5.1.0/build/Linux-x86_64 && /usr/local/lib/python3.10/dist-packages/cmake/data/bin/cmake -E cmake_depends \"Unix Makefiles\" /content/metis-5.1.0 /content/metis-5.1.0/programs /content/metis-5.1.0/build/Linux-x86_64 /content/metis-5.1.0/build/Linux-x86_64/programs /content/metis-5.1.0/build/Linux-x86_64/programs/CMakeFiles/cmpfillin.dir/DependInfo.cmake \"--color=\"\n",
            "make[3]: Leaving directory '/content/metis-5.1.0/build/Linux-x86_64'\n",
            "make  -f programs/CMakeFiles/cmpfillin.dir/build.make programs/CMakeFiles/cmpfillin.dir/build\n",
            "make[3]: Entering directory '/content/metis-5.1.0/build/Linux-x86_64'\n",
            "[ 96%] \u001b[32mBuilding C object programs/CMakeFiles/cmpfillin.dir/cmpfillin.c.o\u001b[0m\n",
            "cd /content/metis-5.1.0/build/Linux-x86_64/programs && /usr/bin/cc -DSVNINFO=\\\"\\\" -I/content/metis-5.1.0/GKlib -I/content/metis-5.1.0/include -I/content/metis-5.1.0/programs/../libmetis -DLINUX -D_FILE_OFFSET_BITS=64 -std=c99 -fno-strict-aliasing -fPIC -Wall -pedantic -Wno-unused-but-set-variable -Wno-unused-variable -Wno-unknown-pragmas -DNDEBUG -DNDEBUG2 -DHAVE_EXECINFO_H -DHAVE_GETLINE -O3 -MD -MT programs/CMakeFiles/cmpfillin.dir/cmpfillin.c.o -MF CMakeFiles/cmpfillin.dir/cmpfillin.c.o.d -o CMakeFiles/cmpfillin.dir/cmpfillin.c.o -c /content/metis-5.1.0/programs/cmpfillin.c\n",
            "[ 97%] \u001b[32mBuilding C object programs/CMakeFiles/cmpfillin.dir/io.c.o\u001b[0m\n",
            "cd /content/metis-5.1.0/build/Linux-x86_64/programs && /usr/bin/cc -DSVNINFO=\\\"\\\" -I/content/metis-5.1.0/GKlib -I/content/metis-5.1.0/include -I/content/metis-5.1.0/programs/../libmetis -DLINUX -D_FILE_OFFSET_BITS=64 -std=c99 -fno-strict-aliasing -fPIC -Wall -pedantic -Wno-unused-but-set-variable -Wno-unused-variable -Wno-unknown-pragmas -DNDEBUG -DNDEBUG2 -DHAVE_EXECINFO_H -DHAVE_GETLINE -O3 -MD -MT programs/CMakeFiles/cmpfillin.dir/io.c.o -MF CMakeFiles/cmpfillin.dir/io.c.o.d -o CMakeFiles/cmpfillin.dir/io.c.o -c /content/metis-5.1.0/programs/io.c\n",
            "[ 98%] \u001b[32mBuilding C object programs/CMakeFiles/cmpfillin.dir/smbfactor.c.o\u001b[0m\n",
            "cd /content/metis-5.1.0/build/Linux-x86_64/programs && /usr/bin/cc -DSVNINFO=\\\"\\\" -I/content/metis-5.1.0/GKlib -I/content/metis-5.1.0/include -I/content/metis-5.1.0/programs/../libmetis -DLINUX -D_FILE_OFFSET_BITS=64 -std=c99 -fno-strict-aliasing -fPIC -Wall -pedantic -Wno-unused-but-set-variable -Wno-unused-variable -Wno-unknown-pragmas -DNDEBUG -DNDEBUG2 -DHAVE_EXECINFO_H -DHAVE_GETLINE -O3 -MD -MT programs/CMakeFiles/cmpfillin.dir/smbfactor.c.o -MF CMakeFiles/cmpfillin.dir/smbfactor.c.o.d -o CMakeFiles/cmpfillin.dir/smbfactor.c.o -c /content/metis-5.1.0/programs/smbfactor.c\n",
            "[100%] \u001b[32m\u001b[1mLinking C executable cmpfillin\u001b[0m\n",
            "cd /content/metis-5.1.0/build/Linux-x86_64/programs && /usr/local/lib/python3.10/dist-packages/cmake/data/bin/cmake -E cmake_link_script CMakeFiles/cmpfillin.dir/link.txt --verbose=1\n",
            "/usr/bin/cc  -DLINUX -D_FILE_OFFSET_BITS=64 -std=c99 -fno-strict-aliasing -fPIC -Wall -pedantic -Wno-unused-but-set-variable -Wno-unused-variable -Wno-unknown-pragmas -DNDEBUG -DNDEBUG2 -DHAVE_EXECINFO_H -DHAVE_GETLINE -O3 -rdynamic CMakeFiles/cmpfillin.dir/cmpfillin.c.o CMakeFiles/cmpfillin.dir/io.c.o CMakeFiles/cmpfillin.dir/smbfactor.c.o -o cmpfillin   -L/home/karypis/local/lib  -Wl,-rpath,/home/karypis/local/lib:/content/metis-5.1.0/build/Linux-x86_64/libmetis: ../libmetis/libmetis.so -lm \n",
            "make[3]: Leaving directory '/content/metis-5.1.0/build/Linux-x86_64'\n",
            "[100%] Built target cmpfillin\n",
            "make[2]: Leaving directory '/content/metis-5.1.0/build/Linux-x86_64'\n",
            "/usr/local/lib/python3.10/dist-packages/cmake/data/bin/cmake -E cmake_progress_start /content/metis-5.1.0/build/Linux-x86_64/CMakeFiles 0\n",
            "make  -f CMakeFiles/Makefile2 preinstall\n",
            "make[2]: Entering directory '/content/metis-5.1.0/build/Linux-x86_64'\n",
            "make[2]: Nothing to be done for 'preinstall'.\n",
            "make[2]: Leaving directory '/content/metis-5.1.0/build/Linux-x86_64'\n",
            "\u001b[36mInstall the project...\u001b[0m\n",
            "/usr/local/lib/python3.10/dist-packages/cmake/data/bin/cmake -P cmake_install.cmake\n",
            "-- Install configuration: \"\"\n",
            "-- Up-to-date: /root/.local/include/metis.h\n",
            "-- Installing: /root/.local/lib/libmetis.so\n",
            "-- Installing: /root/.local/bin/gpmetis\n",
            "-- Set runtime path of \"/root/.local/bin/gpmetis\" to \"\"\n",
            "-- Installing: /root/.local/bin/ndmetis\n",
            "-- Set runtime path of \"/root/.local/bin/ndmetis\" to \"\"\n",
            "-- Installing: /root/.local/bin/mpmetis\n",
            "-- Set runtime path of \"/root/.local/bin/mpmetis\" to \"\"\n",
            "-- Installing: /root/.local/bin/m2gmetis\n",
            "-- Set runtime path of \"/root/.local/bin/m2gmetis\" to \"\"\n",
            "-- Installing: /root/.local/bin/graphchk\n",
            "-- Set runtime path of \"/root/.local/bin/graphchk\" to \"\"\n",
            "-- Installing: /root/.local/bin/cmpfillin\n",
            "-- Set runtime path of \"/root/.local/bin/cmpfillin\" to \"\"\n",
            "make[1]: Leaving directory '/content/metis-5.1.0/build/Linux-x86_64'\n",
            "Requirement already satisfied: metis-python in /usr/local/lib/python3.10/dist-packages (0.1)\n",
            "Requirement already satisfied: networkx in /usr/local/lib/python3.10/dist-packages (from metis-python) (3.3)\n"
          ]
        }
      ],
      "source": [
        "import requests\n",
        "import tarfile\n",
        "\n",
        "# Download and extract the file\n",
        "url = \"http://glaros.dtc.umn.edu/gkhome/fetch/sw/metis/metis-5.1.0.tar.gz\"\n",
        "response = requests.get(url, stream=True)\n",
        "file = tarfile.open(fileobj=response.raw, mode=\"r|gz\")\n",
        "file.extractall(path=\".\")\n",
        "\n",
        "# Change working directory\n",
        "%cd metis-5.1.0\n",
        "\n",
        "# The remaining steps as you have shown in the question, with updated path\n",
        "!make config shared=1 prefix=~/.local/\n",
        "!make install\n",
        "!cp ~/.local/lib/libmetis.so /usr/lib/libmetis.so\n",
        "!export METIS_DLL=/usr/lib/libmetis.so\n",
        "!pip3 install metis-python\n",
        "\n",
        "import metispy as metis"
      ]
    },
    {
      "cell_type": "code",
      "execution_count": 15,
      "metadata": {
        "id": "prbMBI7TcAju"
      },
      "outputs": [],
      "source": [
        "number_of_clusters = 10  # the number of clusters/subgraphs\n",
        "clusters_per_batch = 2  # combine two cluster per batch\n",
        "random_clusters = False  # Set to False if you want to use METIS for clustering"
      ]
    },
    {
      "cell_type": "code",
      "execution_count": 16,
      "metadata": {
        "id": "NFU1nzczcAju"
      },
      "outputs": [],
      "source": [
        "node_ids = np.array(G.nodes())"
      ]
    },
    {
      "cell_type": "code",
      "execution_count": 17,
      "metadata": {
        "colab": {
          "base_uri": "https://localhost:8080/"
        },
        "id": "omgJ8LTCcAju",
        "outputId": "bb3b781d-255c-4721-a016-d1c2e9e89f3f"
      },
      "outputs": [
        {
          "output_type": "stream",
          "name": "stdout",
          "text": [
            "Graph clustering using the METIS algorithm.\n"
          ]
        }
      ],
      "source": [
        "if random_clusters:\n",
        "    # We don't have to specify the cluster because the CluserNodeGenerator will take\n",
        "    # care of the random clustering for us.\n",
        "    clusters = number_of_clusters\n",
        "else:\n",
        "    # We are going to use the METIS clustering algorith,\n",
        "    print(\"Graph clustering using the METIS algorithm.\")\n",
        "\n",
        "    # import metis\n",
        "\n",
        "    lil_adj = G.to_adjacency_matrix().tolil()\n",
        "    adjlist = [tuple(neighbours) for neighbours in lil_adj.rows]\n",
        "\n",
        "    edgecuts, parts = metis.part_graph(adjlist, number_of_clusters)\n",
        "    parts = np.array(parts)\n",
        "    clusters = []\n",
        "    cluster_ids = np.unique(parts)\n",
        "    for cluster_id in cluster_ids:\n",
        "        mask = np.where(parts == cluster_id)\n",
        "        clusters.append(node_ids[mask])"
      ]
    },
    {
      "cell_type": "markdown",
      "metadata": {
        "id": "xrfHZrVKcAju"
      },
      "source": [
        "Next we create the `ClusterNodeGenerator` object ([docs](https://stellargraph.readthedocs.io/en/stable/api.html#stellargraph.mapper.ClusterNodeGenerator)) that will give us access to a generator suitable for model training, evaluation, and prediction via the Keras API.\n",
        "\n",
        "We specify the number of clusters and the number of clusters to combine per batch, **q**."
      ]
    },
    {
      "cell_type": "code",
      "execution_count": 18,
      "metadata": {
        "colab": {
          "base_uri": "https://localhost:8080/"
        },
        "id": "SyI4pn0mcAju",
        "outputId": "98f04c86-99e9-4a2f-c3f5-ff139f974667"
      },
      "outputs": [
        {
          "output_type": "stream",
          "name": "stdout",
          "text": [
            "Number of clusters 10\n",
            "0 cluster has size 270\n",
            "1 cluster has size 276\n",
            "2 cluster has size 268\n",
            "3 cluster has size 270\n",
            "4 cluster has size 275\n",
            "5 cluster has size 278\n",
            "6 cluster has size 271\n",
            "7 cluster has size 265\n",
            "8 cluster has size 269\n",
            "9 cluster has size 266\n"
          ]
        }
      ],
      "source": [
        "generator = ClusterNodeGenerator(G, clusters=clusters, q=clusters_per_batch, lam=0.1)"
      ]
    },
    {
      "cell_type": "markdown",
      "metadata": {
        "id": "tngeCYwXcAjv"
      },
      "source": [
        "Now we can specify our machine learning model, we need a few more parameters for this:\n",
        "\n",
        " * the `layer_sizes` is a list of hidden feature sizes of each layer in the model. In this example we use two GCN layers with 32-dimensional hidden node features at each layer.\n",
        " * `activations` is a list of activations applied to each layer's output\n",
        " * `dropout=0.5` specifies a 50% dropout at each layer."
      ]
    },
    {
      "cell_type": "markdown",
      "metadata": {
        "id": "HW7V9VS1cAjv"
      },
      "source": [
        "We create the `GCN` model ([docs](https://stellargraph.readthedocs.io/en/stable/api.html#stellargraph.layer.GCN)) for training with *Cluster-GCN* as follows:"
      ]
    },
    {
      "cell_type": "code",
      "execution_count": 19,
      "metadata": {
        "id": "4M1YMepScAjv",
        "scrolled": true
      },
      "outputs": [],
      "source": [
        "cluster_gcn = GCN(\n",
        "    layer_sizes=[32, 32], activations=[\"relu\", \"relu\"], generator=generator, dropout=0.5\n",
        ")"
      ]
    },
    {
      "cell_type": "markdown",
      "metadata": {
        "id": "o6Ss5bS_cAjv"
      },
      "source": [
        "To create a Keras model we now expose the input and output tensors of the *Cluster-GCN* model for node prediction, via the `GCN.in_out_tensors` method ([docs](https://stellargraph.readthedocs.io/en/stable/api.html#stellargraph.layer.GCN.in_out_tensors)):"
      ]
    },
    {
      "cell_type": "code",
      "execution_count": 20,
      "metadata": {
        "id": "PcxnxdVRcAjv"
      },
      "outputs": [],
      "source": [
        "x_inp, x_out = cluster_gcn.in_out_tensors()"
      ]
    },
    {
      "cell_type": "code",
      "execution_count": 21,
      "metadata": {
        "id": "ZaQMOHbBcAjv",
        "colab": {
          "base_uri": "https://localhost:8080/"
        },
        "outputId": "ae6b01ed-cdd3-4a41-ca0f-b6c1e44dbc7e"
      },
      "outputs": [
        {
          "output_type": "execute_result",
          "data": {
            "text/plain": [
              "[<KerasTensor: shape=(1, None, 1433) dtype=float32 (created by layer 'input_1')>,\n",
              " <KerasTensor: shape=(1, None) dtype=int32 (created by layer 'input_2')>,\n",
              " <KerasTensor: shape=(1, None, None) dtype=float32 (created by layer 'input_3')>]"
            ]
          },
          "metadata": {},
          "execution_count": 21
        }
      ],
      "source": [
        "x_inp"
      ]
    },
    {
      "cell_type": "code",
      "execution_count": 22,
      "metadata": {
        "id": "4PtzG08NcAjv",
        "colab": {
          "base_uri": "https://localhost:8080/"
        },
        "outputId": "0289983a-c3e9-431f-e4af-d8367fc96485"
      },
      "outputs": [
        {
          "output_type": "execute_result",
          "data": {
            "text/plain": [
              "<KerasTensor: shape=(1, None, 32) dtype=float32 (created by layer 'gather_indices')>"
            ]
          },
          "metadata": {},
          "execution_count": 22
        }
      ],
      "source": [
        "x_out"
      ]
    },
    {
      "cell_type": "markdown",
      "metadata": {
        "id": "grDvTLhWcAjw"
      },
      "source": [
        "We are also going to add a final layer dense layer with softmax output activation. This layers performs classification so we set the number of units to equal the number of classes."
      ]
    },
    {
      "cell_type": "code",
      "execution_count": 23,
      "metadata": {
        "id": "-UgvUGhFcAjw"
      },
      "outputs": [],
      "source": [
        "predictions = layers.Dense(units=train_targets.shape[1], activation=\"softmax\")(x_out)"
      ]
    },
    {
      "cell_type": "markdown",
      "metadata": {
        "id": "OGNAi983cAj0"
      },
      "source": [
        "Finally, we build the TensorFlow model and compile it specifying the loss function, optimiser, and metrics to monitor."
      ]
    },
    {
      "cell_type": "code",
      "execution_count": 24,
      "metadata": {
        "id": "9tAoQ535cAj0",
        "colab": {
          "base_uri": "https://localhost:8080/"
        },
        "outputId": "bcc56275-9e1a-493e-e9a8-78a3ed884c07"
      },
      "outputs": [
        {
          "output_type": "stream",
          "name": "stderr",
          "text": [
            "WARNING:absl:`lr` is deprecated, please use `learning_rate` instead, or use the legacy optimizer, e.g.,tf.keras.optimizers.legacy.Adam.\n"
          ]
        }
      ],
      "source": [
        "model = Model(inputs=x_inp, outputs=predictions)\n",
        "model.compile(\n",
        "    optimizer=optimizers.Adam(lr=0.01),\n",
        "    loss=losses.categorical_crossentropy,\n",
        "    metrics=[\"acc\"],\n",
        ")"
      ]
    },
    {
      "cell_type": "markdown",
      "metadata": {
        "id": "6R-_d5DLcAj0"
      },
      "source": [
        "### Train the model"
      ]
    },
    {
      "cell_type": "markdown",
      "metadata": {
        "id": "VlaofLuHcAj0"
      },
      "source": [
        "We are now ready to train the `GCN` model using *Cluster-GCN*, keeping track of its loss and accuracy on the training set, and its generalisation performance on a validation set."
      ]
    },
    {
      "cell_type": "markdown",
      "metadata": {
        "id": "NgC1ageocAj1"
      },
      "source": [
        "We need two generators, one for training and one for validation data. We can create such generators by calling the `flow` method of the `ClusterNodeGenerator` object we created earlier and specifying the node IDs and corresponding ground truth target values for each of the two datasets."
      ]
    },
    {
      "cell_type": "code",
      "execution_count": 25,
      "metadata": {
        "id": "p6jfLViYcAj1"
      },
      "outputs": [],
      "source": [
        "train_gen = generator.flow(train_labels.index, train_targets, name=\"train\")\n",
        "val_gen = generator.flow(val_labels.index, val_targets, name=\"val\")"
      ]
    },
    {
      "cell_type": "markdown",
      "metadata": {
        "id": "f_9IUb8jcAj1"
      },
      "source": [
        "Finally, we are ready to train our `GCN` model by calling the `fit` method of our TensorFlow Keras model."
      ]
    },
    {
      "cell_type": "code",
      "execution_count": 26,
      "metadata": {
        "id": "lEzfTUeCcAj1",
        "colab": {
          "base_uri": "https://localhost:8080/"
        },
        "outputId": "d0d59751-cdaa-499c-ca3b-f289f8b5dee7"
      },
      "outputs": [
        {
          "output_type": "stream",
          "name": "stdout",
          "text": [
            "Epoch 1/50\n",
            "5/5 [==============================] - 3s 311ms/step - loss: 1.9357 - acc: 0.1357 - val_loss: 1.9230 - val_acc: 0.2620\n",
            "Epoch 2/50\n",
            "5/5 [==============================] - 1s 147ms/step - loss: 1.9176 - acc: 0.2286 - val_loss: 1.9038 - val_acc: 0.3200\n",
            "Epoch 3/50\n",
            "5/5 [==============================] - 0s 80ms/step - loss: 1.8813 - acc: 0.3429 - val_loss: 1.8857 - val_acc: 0.3400\n",
            "Epoch 4/50\n",
            "5/5 [==============================] - 1s 122ms/step - loss: 1.8442 - acc: 0.3714 - val_loss: 1.8559 - val_acc: 0.3380\n",
            "Epoch 5/50\n",
            "5/5 [==============================] - 1s 166ms/step - loss: 1.8102 - acc: 0.3500 - val_loss: 1.8261 - val_acc: 0.3260\n",
            "Epoch 6/50\n",
            "5/5 [==============================] - 1s 229ms/step - loss: 1.7539 - acc: 0.3429 - val_loss: 1.7890 - val_acc: 0.3200\n",
            "Epoch 7/50\n",
            "5/5 [==============================] - 1s 153ms/step - loss: 1.7194 - acc: 0.3500 - val_loss: 1.7465 - val_acc: 0.3100\n",
            "Epoch 8/50\n",
            "5/5 [==============================] - 1s 154ms/step - loss: 1.6725 - acc: 0.3643 - val_loss: 1.7122 - val_acc: 0.3160\n",
            "Epoch 9/50\n",
            "5/5 [==============================] - 1s 171ms/step - loss: 1.5789 - acc: 0.3714 - val_loss: 1.6654 - val_acc: 0.3340\n",
            "Epoch 10/50\n",
            "5/5 [==============================] - 1s 246ms/step - loss: 1.5196 - acc: 0.4000 - val_loss: 1.6171 - val_acc: 0.3580\n",
            "Epoch 11/50\n",
            "5/5 [==============================] - 1s 155ms/step - loss: 1.4876 - acc: 0.4071 - val_loss: 1.5826 - val_acc: 0.3700\n",
            "Epoch 12/50\n",
            "5/5 [==============================] - 1s 151ms/step - loss: 1.4249 - acc: 0.4571 - val_loss: 1.5265 - val_acc: 0.3900\n",
            "Epoch 13/50\n",
            "5/5 [==============================] - 1s 259ms/step - loss: 1.3400 - acc: 0.5071 - val_loss: 1.4884 - val_acc: 0.4540\n",
            "Epoch 14/50\n",
            "5/5 [==============================] - 1s 315ms/step - loss: 1.2666 - acc: 0.5857 - val_loss: 1.4249 - val_acc: 0.5040\n",
            "Epoch 15/50\n",
            "5/5 [==============================] - 1s 172ms/step - loss: 1.2600 - acc: 0.6143 - val_loss: 1.3667 - val_acc: 0.5340\n",
            "Epoch 16/50\n",
            "5/5 [==============================] - 1s 288ms/step - loss: 1.1421 - acc: 0.6714 - val_loss: 1.3254 - val_acc: 0.5920\n",
            "Epoch 17/50\n",
            "5/5 [==============================] - 1s 177ms/step - loss: 1.0334 - acc: 0.7429 - val_loss: 1.2804 - val_acc: 0.6160\n",
            "Epoch 18/50\n",
            "5/5 [==============================] - 1s 155ms/step - loss: 1.0169 - acc: 0.7286 - val_loss: 1.2234 - val_acc: 0.6240\n",
            "Epoch 19/50\n",
            "5/5 [==============================] - 1s 160ms/step - loss: 0.9883 - acc: 0.7214 - val_loss: 1.1972 - val_acc: 0.6460\n",
            "Epoch 20/50\n",
            "5/5 [==============================] - 1s 154ms/step - loss: 0.8884 - acc: 0.7214 - val_loss: 1.1493 - val_acc: 0.6700\n",
            "Epoch 21/50\n",
            "5/5 [==============================] - 1s 183ms/step - loss: 0.8472 - acc: 0.7786 - val_loss: 1.1120 - val_acc: 0.6840\n",
            "Epoch 22/50\n",
            "5/5 [==============================] - 1s 287ms/step - loss: 0.8074 - acc: 0.7857 - val_loss: 1.0571 - val_acc: 0.6940\n",
            "Epoch 23/50\n",
            "5/5 [==============================] - 1s 324ms/step - loss: 0.7439 - acc: 0.8000 - val_loss: 1.0243 - val_acc: 0.6980\n",
            "Epoch 24/50\n",
            "5/5 [==============================] - 1s 222ms/step - loss: 0.6604 - acc: 0.8286 - val_loss: 0.9934 - val_acc: 0.7080\n",
            "Epoch 25/50\n",
            "5/5 [==============================] - 1s 165ms/step - loss: 0.6268 - acc: 0.8429 - val_loss: 0.9641 - val_acc: 0.7000\n",
            "Epoch 26/50\n",
            "5/5 [==============================] - 1s 155ms/step - loss: 0.5946 - acc: 0.8357 - val_loss: 0.9281 - val_acc: 0.7100\n",
            "Epoch 27/50\n",
            "5/5 [==============================] - 1s 169ms/step - loss: 0.5219 - acc: 0.8857 - val_loss: 0.9121 - val_acc: 0.7180\n",
            "Epoch 28/50\n",
            "5/5 [==============================] - 1s 166ms/step - loss: 0.5031 - acc: 0.9071 - val_loss: 0.9002 - val_acc: 0.7160\n",
            "Epoch 29/50\n",
            "5/5 [==============================] - 1s 251ms/step - loss: 0.4520 - acc: 0.8929 - val_loss: 0.8767 - val_acc: 0.7220\n",
            "Epoch 30/50\n",
            "5/5 [==============================] - 1s 158ms/step - loss: 0.4549 - acc: 0.9143 - val_loss: 0.8495 - val_acc: 0.7240\n",
            "Epoch 31/50\n",
            "5/5 [==============================] - 0s 78ms/step - loss: 0.4121 - acc: 0.9500 - val_loss: 0.8376 - val_acc: 0.7380\n",
            "Epoch 32/50\n",
            "5/5 [==============================] - 0s 78ms/step - loss: 0.4096 - acc: 0.9500 - val_loss: 0.8144 - val_acc: 0.7420\n",
            "Epoch 33/50\n",
            "5/5 [==============================] - 0s 81ms/step - loss: 0.3976 - acc: 0.9214 - val_loss: 0.7841 - val_acc: 0.7540\n",
            "Epoch 34/50\n",
            "5/5 [==============================] - 0s 79ms/step - loss: 0.3345 - acc: 0.9429 - val_loss: 0.7727 - val_acc: 0.7520\n",
            "Epoch 35/50\n",
            "5/5 [==============================] - 1s 121ms/step - loss: 0.3480 - acc: 0.9357 - val_loss: 0.7578 - val_acc: 0.7580\n",
            "Epoch 36/50\n",
            "5/5 [==============================] - 0s 80ms/step - loss: 0.3054 - acc: 0.9571 - val_loss: 0.7427 - val_acc: 0.7600\n",
            "Epoch 37/50\n",
            "5/5 [==============================] - 0s 81ms/step - loss: 0.2961 - acc: 0.9786 - val_loss: 0.7472 - val_acc: 0.7600\n",
            "Epoch 38/50\n",
            "5/5 [==============================] - 1s 120ms/step - loss: 0.2400 - acc: 1.0000 - val_loss: 0.7376 - val_acc: 0.7660\n",
            "Epoch 39/50\n",
            "5/5 [==============================] - 1s 158ms/step - loss: 0.2543 - acc: 0.9786 - val_loss: 0.7281 - val_acc: 0.7720\n",
            "Epoch 40/50\n",
            "5/5 [==============================] - 1s 156ms/step - loss: 0.2032 - acc: 0.9857 - val_loss: 0.7061 - val_acc: 0.7680\n",
            "Epoch 41/50\n",
            "5/5 [==============================] - 1s 130ms/step - loss: 0.1821 - acc: 0.9857 - val_loss: 0.7055 - val_acc: 0.7700\n",
            "Epoch 42/50\n",
            "5/5 [==============================] - 0s 79ms/step - loss: 0.2592 - acc: 0.9643 - val_loss: 0.6757 - val_acc: 0.7700\n",
            "Epoch 43/50\n",
            "5/5 [==============================] - 0s 78ms/step - loss: 0.1625 - acc: 0.9714 - val_loss: 0.6961 - val_acc: 0.7740\n",
            "Epoch 44/50\n",
            "5/5 [==============================] - 0s 79ms/step - loss: 0.1857 - acc: 0.9929 - val_loss: 0.6826 - val_acc: 0.7740\n",
            "Epoch 45/50\n",
            "5/5 [==============================] - 0s 80ms/step - loss: 0.1698 - acc: 0.9857 - val_loss: 0.6881 - val_acc: 0.7880\n",
            "Epoch 46/50\n",
            "5/5 [==============================] - 0s 82ms/step - loss: 0.1487 - acc: 1.0000 - val_loss: 0.6911 - val_acc: 0.7820\n",
            "Epoch 47/50\n",
            "5/5 [==============================] - 0s 78ms/step - loss: 0.1666 - acc: 0.9857 - val_loss: 0.6701 - val_acc: 0.7900\n",
            "Epoch 48/50\n",
            "5/5 [==============================] - 0s 83ms/step - loss: 0.1376 - acc: 0.9857 - val_loss: 0.6634 - val_acc: 0.7840\n",
            "Epoch 49/50\n",
            "5/5 [==============================] - 0s 79ms/step - loss: 0.1336 - acc: 0.9857 - val_loss: 0.6593 - val_acc: 0.7880\n",
            "Epoch 50/50\n",
            "5/5 [==============================] - 0s 80ms/step - loss: 0.1295 - acc: 0.9929 - val_loss: 0.6679 - val_acc: 0.7840\n"
          ]
        }
      ],
      "source": [
        "history = model.fit(\n",
        "    train_gen, validation_data=val_gen, epochs=50, verbose=1, shuffle=False\n",
        ")"
      ]
    },
    {
      "cell_type": "markdown",
      "metadata": {
        "id": "VJipKWthcAj1"
      },
      "source": [
        "Plot the training history:"
      ]
    },
    {
      "cell_type": "code",
      "execution_count": 27,
      "metadata": {
        "id": "QjGphVeTcAj1",
        "colab": {
          "base_uri": "https://localhost:8080/",
          "height": 807
        },
        "outputId": "8d437f07-27a7-476d-c1f7-14d36dd8b51d"
      },
      "outputs": [
        {
          "output_type": "display_data",
          "data": {
            "text/plain": [
              "<Figure size 700x800 with 2 Axes>"
            ],
            "image/png": "[encoded data removed]"
          },
          "metadata": {}
        }
      ],
      "source": [
        "sg.utils.plot_history(history)"
      ]
    },
    {
      "cell_type": "markdown",
      "metadata": {
        "id": "mVqfrogMcAj2"
      },
      "source": [
        "Evaluate the best model on the test set.\n",
        "\n",
        "Note that *Cluster-GCN* performance can be very poor if using random graph clustering. Using *METIS* instead of random graph clustering produces considerably better results."
      ]
    },
    {
      "cell_type": "code",
      "execution_count": 28,
      "metadata": {
        "id": "gynGh6N9cAj2"
      },
      "outputs": [],
      "source": [
        "test_gen = generator.flow(test_labels.index, test_targets)"
      ]
    },
    {
      "cell_type": "code",
      "execution_count": 29,
      "metadata": {
        "id": "_iyWRMlwcAj2",
        "colab": {
          "base_uri": "https://localhost:8080/"
        },
        "outputId": "00f63c86-dba2-4926-cb88-d9a43d0c3c14"
      },
      "outputs": [
        {
          "output_type": "stream",
          "name": "stdout",
          "text": [
            "5/5 [==============================] - 0s 40ms/step - loss: 0.6701 - acc: 0.7858\n",
            "\n",
            "Test Set Metrics:\n",
            "\tloss: 0.6701\n",
            "\tacc: 0.7858\n"
          ]
        }
      ],
      "source": [
        "test_metrics = model.evaluate(test_gen)\n",
        "print(\"\\nTest Set Metrics:\")\n",
        "for name, val in zip(model.metrics_names, test_metrics):\n",
        "    print(\"\\t{}: {:0.4f}\".format(name, val))"
      ]
    },
    {
      "cell_type": "markdown",
      "metadata": {
        "id": "LyCfd9fMcAj2"
      },
      "source": [
        "### Making predictions with the model"
      ]
    },
    {
      "cell_type": "markdown",
      "metadata": {
        "id": "nnkXKmxXcAj2"
      },
      "source": [
        "For predictions to work correctly, we need to remove the extra batch dimensions necessary for the implementation of *Cluster-GCN* to work. We can easily achieve this by adding a layer after the dense predictions layer to remove this extra dimension."
      ]
    },
    {
      "cell_type": "code",
      "execution_count": 30,
      "metadata": {
        "id": "rDLC0mKccAj4"
      },
      "outputs": [],
      "source": [
        "predictions_flat = layers.Lambda(lambda x: K.squeeze(x, 0))(predictions)"
      ]
    },
    {
      "cell_type": "code",
      "execution_count": 31,
      "metadata": {
        "id": "IrQzI9spcAj4",
        "colab": {
          "base_uri": "https://localhost:8080/"
        },
        "outputId": "b0c6306e-4da3-4237-fb33-6904ac459147"
      },
      "outputs": [
        {
          "output_type": "execute_result",
          "data": {
            "text/plain": [
              "(<KerasTensor: shape=(1, None, 7) dtype=float32 (created by layer 'dense')>,\n",
              " <KerasTensor: shape=(None, 7) dtype=float32 (created by layer 'lambda_1')>)"
            ]
          },
          "metadata": {},
          "execution_count": 31
        }
      ],
      "source": [
        "# Notice that we have removed the first dimension\n",
        "predictions, predictions_flat"
      ]
    },
    {
      "cell_type": "markdown",
      "metadata": {
        "id": "tX-rCEmWcAj5"
      },
      "source": [
        "Now let's get the predictions for all nodes.\n",
        "\n",
        "We need to create a new model using the same as before input Tensor and our new **predictions_flat** Tensor as the output. We are going to re-use the trained model weights."
      ]
    },
    {
      "cell_type": "code",
      "execution_count": 32,
      "metadata": {
        "id": "iDsPy161cAj5"
      },
      "outputs": [],
      "source": [
        "model_predict = Model(inputs=x_inp, outputs=predictions_flat)"
      ]
    },
    {
      "cell_type": "code",
      "execution_count": 33,
      "metadata": {
        "id": "XXTe7Y99cAj5",
        "colab": {
          "base_uri": "https://localhost:8080/"
        },
        "outputId": "8ce3e554-81ce-41fb-9ffd-bb72f25744da"
      },
      "outputs": [
        {
          "output_type": "stream",
          "name": "stdout",
          "text": [
            "5/5 [==============================] - 0s 26ms/step\n"
          ]
        }
      ],
      "source": [
        "all_nodes = list(G.nodes())\n",
        "all_gen = generator.flow(all_nodes, name=\"all_gen\")\n",
        "all_predictions = model_predict.predict(all_gen)"
      ]
    },
    {
      "cell_type": "code",
      "execution_count": 34,
      "metadata": {
        "id": "Y8fSO8b0cAj5",
        "colab": {
          "base_uri": "https://localhost:8080/"
        },
        "outputId": "70abe4a9-21ba-4ce2-dbe8-d26e6bf12f3c"
      },
      "outputs": [
        {
          "output_type": "execute_result",
          "data": {
            "text/plain": [
              "(2708, 7)"
            ]
          },
          "metadata": {},
          "execution_count": 34
        }
      ],
      "source": [
        "all_predictions.shape"
      ]
    },
    {
      "cell_type": "markdown",
      "metadata": {
        "id": "vN_eKhvbcAj6"
      },
      "source": [
        "These predictions will be the output of the softmax layer, so to get final categories we'll use the `inverse_transform` method of our target attribute specification to turn these values back to the original categories."
      ]
    },
    {
      "cell_type": "code",
      "execution_count": 35,
      "metadata": {
        "id": "mHbxqpMXcAj6"
      },
      "outputs": [],
      "source": [
        "node_predictions = target_encoding.inverse_transform(all_predictions)"
      ]
    },
    {
      "cell_type": "markdown",
      "metadata": {
        "id": "MMDapetNcAj6"
      },
      "source": [
        "Let's have a look at a few predictions after training the model:"
      ]
    },
    {
      "cell_type": "code",
      "execution_count": 36,
      "metadata": {
        "id": "925MKYUwcAj7",
        "colab": {
          "base_uri": "https://localhost:8080/"
        },
        "outputId": "19155f18-e495-486a-e436-3e8a888c9216"
      },
      "outputs": [
        {
          "output_type": "execute_result",
          "data": {
            "text/plain": [
              "2708"
            ]
          },
          "metadata": {},
          "execution_count": 36
        }
      ],
      "source": [
        "len(all_gen.node_order)"
      ]
    },
    {
      "cell_type": "code",
      "execution_count": 37,
      "metadata": {
        "id": "eaNjHkZ9cAj7",
        "colab": {
          "base_uri": "https://localhost:8080/",
          "height": 363
        },
        "outputId": "d3c53f04-1dd4-4870-dcce-43c7520ff599"
      },
      "outputs": [
        {
          "output_type": "execute_result",
          "data": {
            "text/plain": [
              "                  Predicted                    True\n",
              "35       Genetic_Algorithms      Genetic_Algorithms\n",
              "40       Genetic_Algorithms      Genetic_Algorithms\n",
              "114  Reinforcement_Learning  Reinforcement_Learning\n",
              "117  Reinforcement_Learning  Reinforcement_Learning\n",
              "128  Reinforcement_Learning  Reinforcement_Learning\n",
              "130  Reinforcement_Learning  Reinforcement_Learning\n",
              "164                  Theory                  Theory\n",
              "288  Reinforcement_Learning  Reinforcement_Learning\n",
              "424         Neural_Networks           Rule_Learning\n",
              "434                  Theory  Reinforcement_Learning"
            ],
            "text/html": [
              "\n",
              "  <div id=\"df-cd43718a-ae5f-43aa-b71c-15d9a6fdd588\" class=\"colab-df-container\">\n",
              "    <div>\n",
              "<style scoped>\n",
              "    .dataframe tbody tr th:only-of-type {\n",
              "        vertical-align: middle;\n",
              "    }\n",
              "\n",
              "    .dataframe tbody tr th {\n",
              "        vertical-align: top;\n",
              "    }\n",
              "\n",
              "    .dataframe thead th {\n",
              "        text-align: right;\n",
              "    }\n",
              "</style>\n",
              "<table border=\"1\" class=\"dataframe\">\n",
              "  <thead>\n",
              "    <tr style=\"text-align: right;\">\n",
              "      <th></th>\n",
              "      <th>Predicted</th>\n",
              "      <th>True</th>\n",
              "    </tr>\n",
              "  </thead>\n",
              "  <tbody>\n",
              "    <tr>\n",
              "      <th>35</th>\n",
              "      <td>Genetic_Algorithms</td>\n",
              "      <td>Genetic_Algorithms</td>\n",
              "    </tr>\n",
              "    <tr>\n",
              "      <th>40</th>\n",
              "      <td>Genetic_Algorithms</td>\n",
              "      <td>Genetic_Algorithms</td>\n",
              "    </tr>\n",
              "    <tr>\n",
              "      <th>114</th>\n",
              "      <td>Reinforcement_Learning</td>\n",
              "      <td>Reinforcement_Learning</td>\n",
              "    </tr>\n",
              "    <tr>\n",
              "      <th>117</th>\n",
              "      <td>Reinforcement_Learning</td>\n",
              "      <td>Reinforcement_Learning</td>\n",
              "    </tr>\n",
              "    <tr>\n",
              "      <th>128</th>\n",
              "      <td>Reinforcement_Learning</td>\n",
              "      <td>Reinforcement_Learning</td>\n",
              "    </tr>\n",
              "    <tr>\n",
              "      <th>130</th>\n",
              "      <td>Reinforcement_Learning</td>\n",
              "      <td>Reinforcement_Learning</td>\n",
              "    </tr>\n",
              "    <tr>\n",
              "      <th>164</th>\n",
              "      <td>Theory</td>\n",
              "      <td>Theory</td>\n",
              "    </tr>\n",
              "    <tr>\n",
              "      <th>288</th>\n",
              "      <td>Reinforcement_Learning</td>\n",
              "      <td>Reinforcement_Learning</td>\n",
              "    </tr>\n",
              "    <tr>\n",
              "      <th>424</th>\n",
              "      <td>Neural_Networks</td>\n",
              "      <td>Rule_Learning</td>\n",
              "    </tr>\n",
              "    <tr>\n",
              "      <th>434</th>\n",
              "      <td>Theory</td>\n",
              "      <td>Reinforcement_Learning</td>\n",
              "    </tr>\n",
              "  </tbody>\n",
              "</table>\n",
              "</div>\n",
              "    <div class=\"colab-df-buttons\">\n",
              "\n",
              "  <div class=\"colab-df-container\">\n",
              "    <button class=\"colab-df-convert\" onclick=\"convertToInteractive('df-cd43718a-ae5f-43aa-b71c-15d9a6fdd588')\"\n",
              "            title=\"Convert this dataframe to an interactive table.\"\n",
              "            style=\"display:none;\">\n",
              "\n",
              "  <svg xmlns=\"http://www.w3.org/2000/svg\" height=\"24px\" viewBox=\"0 -960 960 960\">\n",
              "    <path d=\"M120-120v-720h720v720H120Zm60-500h600v-160H180v160Zm220 220h160v-160H400v160Zm0 220h160v-160H400v160ZM180-400h160v-160H180v160Zm440 0h160v-160H620v160ZM180-180h160v-160H180v160Zm440 0h160v-160H620v160Z\"/>\n",
              "  </svg>\n",
              "    </button>\n",
              "\n",
              "  <style>\n",
              "    .colab-df-container {\n",
              "      display:flex;\n",
              "      gap: 12px;\n",
              "    }\n",
              "\n",
              "    .colab-df-convert {\n",
              "      background-color: #E8F0FE;\n",
              "      border: none;\n",
              "      border-radius: 50%;\n",
              "      cursor: pointer;\n",
              "      display: none;\n",
              "      fill: #1967D2;\n",
              "      height: 32px;\n",
              "      padding: 0 0 0 0;\n",
              "      width: 32px;\n",
              "    }\n",
              "\n",
              "    .colab-df-convert:hover {\n",
              "      background-color: #E2EBFA;\n",
              "      box-shadow: 0px 1px 2px rgba(60, 64, 67, 0.3), 0px 1px 3px 1px rgba(60, 64, 67, 0.15);\n",
              "      fill: #174EA6;\n",
              "    }\n",
              "\n",
              "    .colab-df-buttons div {\n",
              "      margin-bottom: 4px;\n",
              "    }\n",
              "\n",
              "    [theme=dark] .colab-df-convert {\n",
              "      background-color: #3B4455;\n",
              "      fill: #D2E3FC;\n",
              "    }\n",
              "\n",
              "    [theme=dark] .colab-df-convert:hover {\n",
              "      background-color: #434B5C;\n",
              "      box-shadow: 0px 1px 3px 1px rgba(0, 0, 0, 0.15);\n",
              "      filter: drop-shadow(0px 1px 2px rgba(0, 0, 0, 0.3));\n",
              "      fill: #FFFFFF;\n",
              "    }\n",
              "  </style>\n",
              "\n",
              "    <script>\n",
              "      const buttonEl =\n",
              "        document.querySelector('#df-cd43718a-ae5f-43aa-b71c-15d9a6fdd588 button.colab-df-convert');\n",
              "      buttonEl.style.display =\n",
              "        google.colab.kernel.accessAllowed ? 'block' : 'none';\n",
              "\n",
              "      async function convertToInteractive(key) {\n",
              "        const element = document.querySelector('#df-cd43718a-ae5f-43aa-b71c-15d9a6fdd588');\n",
              "        const dataTable =\n",
              "          await google.colab.kernel.invokeFunction('convertToInteractive',\n",
              "                                                    [key], {});\n",
              "        if (!dataTable) return;\n",
              "\n",
              "        const docLinkHtml = 'Like what you see? Visit the ' +\n",
              "          '<a target=\"_blank\" href=https://colab.research.google.com/notebooks/data_table.ipynb>data table notebook</a>'\n",
              "          + ' to learn more about interactive tables.';\n",
              "        element.innerHTML = '';\n",
              "        dataTable['output_type'] = 'display_data';\n",
              "        await google.colab.output.renderOutput(dataTable, element);\n",
              "        const docLink = document.createElement('div');\n",
              "        docLink.innerHTML = docLinkHtml;\n",
              "        element.appendChild(docLink);\n",
              "      }\n",
              "    </script>\n",
              "  </div>\n",
              "\n",
              "\n",
              "<div id=\"df-84e9aad5-92ed-4404-a3fa-6638c941c425\">\n",
              "  <button class=\"colab-df-quickchart\" onclick=\"quickchart('df-84e9aad5-92ed-4404-a3fa-6638c941c425')\"\n",
              "            title=\"Suggest charts\"\n",
              "            style=\"display:none;\">\n",
              "\n",
              "<svg xmlns=\"http://www.w3.org/2000/svg\" height=\"24px\"viewBox=\"0 0 24 24\"\n",
              "     width=\"24px\">\n",
              "    <g>\n",
              "        <path d=\"M19 3H5c-1.1 0-2 .9-2 2v14c0 1.1.9 2 2 2h14c1.1 0 2-.9 2-2V5c0-1.1-.9-2-2-2zM9 17H7v-7h2v7zm4 0h-2V7h2v10zm4 0h-2v-4h2v4z\"/>\n",
              "    </g>\n",
              "</svg>\n",
              "  </button>\n",
              "\n",
              "<style>\n",
              "  .colab-df-quickchart {\n",
              "      --bg-color: #E8F0FE;\n",
              "      --fill-color: #1967D2;\n",
              "      --hover-bg-color: #E2EBFA;\n",
              "      --hover-fill-color: #174EA6;\n",
              "      --disabled-fill-color: #AAA;\n",
              "      --disabled-bg-color: #DDD;\n",
              "  }\n",
              "\n",
              "  [theme=dark] .colab-df-quickchart {\n",
              "      --bg-color: #3B4455;\n",
              "      --fill-color: #D2E3FC;\n",
              "      --hover-bg-color: #434B5C;\n",
              "      --hover-fill-color: #FFFFFF;\n",
              "      --disabled-bg-color: #3B4455;\n",
              "      --disabled-fill-color: #666;\n",
              "  }\n",
              "\n",
              "  .colab-df-quickchart {\n",
              "    background-color: var(--bg-color);\n",
              "    border: none;\n",
              "    border-radius: 50%;\n",
              "    cursor: pointer;\n",
              "    display: none;\n",
              "    fill: var(--fill-color);\n",
              "    height: 32px;\n",
              "    padding: 0;\n",
              "    width: 32px;\n",
              "  }\n",
              "\n",
              "  .colab-df-quickchart:hover {\n",
              "    background-color: var(--hover-bg-color);\n",
              "    box-shadow: 0 1px 2px rgba(60, 64, 67, 0.3), 0 1px 3px 1px rgba(60, 64, 67, 0.15);\n",
              "    fill: var(--button-hover-fill-color);\n",
              "  }\n",
              "\n",
              "  .colab-df-quickchart-complete:disabled,\n",
              "  .colab-df-quickchart-complete:disabled:hover {\n",
              "    background-color: var(--disabled-bg-color);\n",
              "    fill: var(--disabled-fill-color);\n",
              "    box-shadow: none;\n",
              "  }\n",
              "\n",
              "  .colab-df-spinner {\n",
              "    border: 2px solid var(--fill-color);\n",
              "    border-color: transparent;\n",
              "    border-bottom-color: var(--fill-color);\n",
              "    animation:\n",
              "      spin 1s steps(1) infinite;\n",
              "  }\n",
              "\n",
              "  @keyframes spin {\n",
              "    0% {\n",
              "      border-color: transparent;\n",
              "      border-bottom-color: var(--fill-color);\n",
              "      border-left-color: var(--fill-color);\n",
              "    }\n",
              "    20% {\n",
              "      border-color: transparent;\n",
              "      border-left-color: var(--fill-color);\n",
              "      border-top-color: var(--fill-color);\n",
              "    }\n",
              "    30% {\n",
              "      border-color: transparent;\n",
              "      border-left-color: var(--fill-color);\n",
              "      border-top-color: var(--fill-color);\n",
              "      border-right-color: var(--fill-color);\n",
              "    }\n",
              "    40% {\n",
              "      border-color: transparent;\n",
              "      border-right-color: var(--fill-color);\n",
              "      border-top-color: var(--fill-color);\n",
              "    }\n",
              "    60% {\n",
              "      border-color: transparent;\n",
              "      border-right-color: var(--fill-color);\n",
              "    }\n",
              "    80% {\n",
              "      border-color: transparent;\n",
              "      border-right-color: var(--fill-color);\n",
              "      border-bottom-color: var(--fill-color);\n",
              "    }\n",
              "    90% {\n",
              "      border-color: transparent;\n",
              "      border-bottom-color: var(--fill-color);\n",
              "    }\n",
              "  }\n",
              "</style>\n",
              "\n",
              "  <script>\n",
              "    async function quickchart(key) {\n",
              "      const quickchartButtonEl =\n",
              "        document.querySelector('#' + key + ' button');\n",
              "      quickchartButtonEl.disabled = true;  // To prevent multiple clicks.\n",
              "      quickchartButtonEl.classList.add('colab-df-spinner');\n",
              "      try {\n",
              "        const charts = await google.colab.kernel.invokeFunction(\n",
              "            'suggestCharts', [key], {});\n",
              "      } catch (error) {\n",
              "        console.error('Error during call to suggestCharts:', error);\n",
              "      }\n",
              "      quickchartButtonEl.classList.remove('colab-df-spinner');\n",
              "      quickchartButtonEl.classList.add('colab-df-quickchart-complete');\n",
              "    }\n",
              "    (() => {\n",
              "      let quickchartButtonEl =\n",
              "        document.querySelector('#df-84e9aad5-92ed-4404-a3fa-6638c941c425 button');\n",
              "      quickchartButtonEl.style.display =\n",
              "        google.colab.kernel.accessAllowed ? 'block' : 'none';\n",
              "    })();\n",
              "  </script>\n",
              "</div>\n",
              "\n",
              "    </div>\n",
              "  </div>\n"
            ],
            "application/vnd.google.colaboratory.intrinsic+json": {
              "type": "dataframe",
              "variable_name": "df",
              "summary": "{\n  \"name\": \"df\",\n  \"rows\": 2708,\n  \"fields\": [\n    {\n      \"column\": \"Predicted\",\n      \"properties\": {\n        \"dtype\": \"category\",\n        \"num_unique_values\": 7,\n        \"samples\": [\n          \"Genetic_Algorithms\",\n          \"Reinforcement_Learning\",\n          \"Probabilistic_Methods\"\n        ],\n        \"semantic_type\": \"\",\n        \"description\": \"\"\n      }\n    },\n    {\n      \"column\": \"True\",\n      \"properties\": {\n        \"dtype\": \"category\",\n        \"num_unique_values\": 7,\n        \"samples\": [\n          \"Genetic_Algorithms\",\n          \"Reinforcement_Learning\",\n          \"Probabilistic_Methods\"\n        ],\n        \"semantic_type\": \"\",\n        \"description\": \"\"\n      }\n    }\n  ]\n}"
            }
          },
          "metadata": {},
          "execution_count": 37
        }
      ],
      "source": [
        "results = pd.Series(node_predictions, index=all_gen.node_order)\n",
        "df = pd.DataFrame({\"Predicted\": results, \"True\": labels})\n",
        "df.head(10)"
      ]
    },
    {
      "cell_type": "markdown",
      "metadata": {
        "id": "DpJM9c1PcAj8"
      },
      "source": [
        "<table><tr><td>Run the latest release of this notebook:</td><td><a href=\"https://mybinder.org/v2/gh/stellargraph/stellargraph/master?urlpath=lab/tree/demos/node-classification/cluster-gcn-node-classification.ipynb\" alt=\"Open In Binder\" target=\"_parent\"><img src=\"https://mybinder.org/badge_logo.svg\"/></a></td><td><a href=\"https://colab.research.google.com/github/stellargraph/stellargraph/blob/master/demos/node-classification/cluster-gcn-node-classification.ipynb\" alt=\"Open In Colab\" target=\"_parent\"><img src=\"https://colab.research.google.com/assets/colab-badge.svg\"/></a></td></tr></table>"
      ]
    }
  ],
  "metadata": {
    "colab": {
      "provenance": []
    },
    "kernelspec": {
      "display_name": "Python 3",
      "language": "python",
      "name": "python3"
    },
    "language_info": {
      "codemirror_mode": {
        "name": "ipython",
        "version": 3
      },
      "file_extension": ".py",
      "mimetype": "text/x-python",
      "name": "python",
      "nbconvert_exporter": "python",
      "pygments_lexer": "ipython3",
      "version": "3.6.9"
    }
  },
  "nbformat": 4,
  "nbformat_minor": 0
}